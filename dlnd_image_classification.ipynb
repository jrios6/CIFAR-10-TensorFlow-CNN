{
 "cells": [
  {
   "cell_type": "markdown",
   "metadata": {
    "collapsed": true,
    "deletable": true,
    "editable": true
   },
   "source": [
    "# Image Classification\n",
    "In this project, you'll classify images from the [CIFAR-10 dataset](https://www.cs.toronto.edu/~kriz/cifar.html).  The dataset consists of airplanes, dogs, cats, and other objects. You'll preprocess the images, then train a convolutional neural network on all the samples. The images need to be normalized and the labels need to be one-hot encoded.  You'll get to apply what you learned and build a convolutional, max pooling, dropout, and fully connected layers.  At the end, you'll get to see your neural network's predictions on the sample images.\n",
    "## Get the Data\n",
    "Run the following cell to download the [CIFAR-10 dataset for python](https://www.cs.toronto.edu/~kriz/cifar-10-python.tar.gz)."
   ]
  },
  {
   "cell_type": "code",
   "execution_count": 309,
   "metadata": {
    "collapsed": false,
    "deletable": true,
    "editable": true
   },
   "outputs": [
    {
     "name": "stdout",
     "output_type": "stream",
     "text": [
      "All files found!\n"
     ]
    }
   ],
   "source": [
    "\"\"\"\n",
    "DON'T MODIFY ANYTHING IN THIS CELL THAT IS BELOW THIS LINE\n",
    "\"\"\"\n",
    "from urllib.request import urlretrieve\n",
    "from os.path import isfile, isdir\n",
    "from tqdm import tqdm\n",
    "import problem_unittests as tests\n",
    "import tarfile\n",
    "\n",
    "cifar10_dataset_folder_path = 'cifar-10-batches-py'\n",
    "\n",
    "# Use Floyd's cifar-10 dataset if present\n",
    "floyd_cifar10_location = '/input/cifar-10/python.tar.gz'\n",
    "if isfile(floyd_cifar10_location):\n",
    "    tar_gz_path = floyd_cifar10_location\n",
    "else:\n",
    "    tar_gz_path = 'cifar-10-python.tar.gz'\n",
    "\n",
    "class DLProgress(tqdm):\n",
    "    last_block = 0\n",
    "\n",
    "    def hook(self, block_num=1, block_size=1, total_size=None):\n",
    "        self.total = total_size\n",
    "        self.update((block_num - self.last_block) * block_size)\n",
    "        self.last_block = block_num\n",
    "\n",
    "if not isfile(tar_gz_path):\n",
    "    with DLProgress(unit='B', unit_scale=True, miniters=1, desc='CIFAR-10 Dataset') as pbar:\n",
    "        urlretrieve(\n",
    "            'https://www.cs.toronto.edu/~kriz/cifar-10-python.tar.gz',\n",
    "            tar_gz_path,\n",
    "            pbar.hook)\n",
    "\n",
    "if not isdir(cifar10_dataset_folder_path):\n",
    "    with tarfile.open(tar_gz_path) as tar:\n",
    "        tar.extractall()\n",
    "        tar.close()\n",
    "\n",
    "\n",
    "tests.test_folder_path(cifar10_dataset_folder_path)"
   ]
  },
  {
   "cell_type": "markdown",
   "metadata": {
    "deletable": true,
    "editable": true
   },
   "source": [
    "## Explore the Data\n",
    "The dataset is broken into batches to prevent your machine from running out of memory.  The CIFAR-10 dataset consists of 5 batches, named `data_batch_1`, `data_batch_2`, etc.. Each batch contains the labels and images that are one of the following:\n",
    "* airplane\n",
    "* automobile\n",
    "* bird\n",
    "* cat\n",
    "* deer\n",
    "* dog\n",
    "* frog\n",
    "* horse\n",
    "* ship\n",
    "* truck\n",
    "\n",
    "Understanding a dataset is part of making predictions on the data.  Play around with the code cell below by changing the `batch_id` and `sample_id`. The `batch_id` is the id for a batch (1-5). The `sample_id` is the id for a image and label pair in the batch.\n",
    "\n",
    "Ask yourself \"What are all possible labels?\", \"What is the range of values for the image data?\", \"Are the labels in order or random?\".  Answers to questions like these will help you preprocess the data and end up with better predictions."
   ]
  },
  {
   "cell_type": "code",
   "execution_count": 310,
   "metadata": {
    "collapsed": false,
    "deletable": true,
    "editable": true
   },
   "outputs": [
    {
     "name": "stdout",
     "output_type": "stream",
     "text": [
      "\n",
      "Stats of batch 5:\n",
      "Samples: 10000\n",
      "Label Counts: {0: 1014, 1: 1014, 2: 952, 3: 1016, 4: 997, 5: 1025, 6: 980, 7: 977, 8: 1003, 9: 1022}\n",
      "First 20 Labels: [1, 8, 5, 1, 5, 7, 4, 3, 8, 2, 7, 2, 0, 1, 5, 9, 6, 2, 0, 8]\n",
      "\n",
      "Example of Image 7:\n",
      "Image - Min Value: 20 Max Value: 255\n",
      "Image - Shape: (32, 32, 3)\n",
      "Label - Label Id: 3 Name: cat\n"
     ]
    },
    {
     "data": {
      "image/png": "[encoded data removed]",
      "text/plain": [
       "<matplotlib.figure.Figure at 0x16a5109b0>"
      ]
     },
     "metadata": {
      "image/png": {
       "height": 250,
       "width": 253
      }
     },
     "output_type": "display_data"
    }
   ],
   "source": [
    "%matplotlib inline\n",
    "%config InlineBackend.figure_format = 'retina'\n",
    "\n",
    "import helper\n",
    "import numpy as np\n",
    "\n",
    "# Explore the dataset\n",
    "batch_id = 5\n",
    "sample_id = 7\n",
    "helper.display_stats(cifar10_dataset_folder_path, batch_id, sample_id)"
   ]
  },
  {
   "cell_type": "markdown",
   "metadata": {
    "deletable": true,
    "editable": true
   },
   "source": [
    "## Implement Preprocess Functions\n",
    "### Normalize\n",
    "In the cell below, implement the `normalize` function to take in image data, `x`, and return it as a normalized Numpy array. The values should be in the range of 0 to 1, inclusive.  The return object should be the same shape as `x`."
   ]
  },
  {
   "cell_type": "code",
   "execution_count": 352,
   "metadata": {
    "collapsed": false,
    "deletable": true,
    "editable": true
   },
   "outputs": [
    {
     "name": "stdout",
     "output_type": "stream",
     "text": [
      "Tests Passed\n"
     ]
    }
   ],
   "source": [
    "def normalize(x):\n",
    "    \"\"\"\n",
    "    Normalize a list of sample image data in the range of 0 to 1\n",
    "    : x: List of image data.  The image shape is (32, 32, 3)\n",
    "    : return: Numpy array of normalize data\n",
    "    \"\"\"\n",
    "    # TODO: Implement Function\n",
    "    max = np.max(x)\n",
    "    min = np.min(x)\n",
    "    x = x/(max - min)\n",
    "    return x\n",
    "\n",
    "\n",
    "\n",
    "\"\"\"\n",
    "DON'T MODIFY ANYTHING IN THIS CELL THAT IS BELOW THIS LINE\n",
    "\"\"\"\n",
    "tests.test_normalize(normalize)"
   ]
  },
  {
   "cell_type": "markdown",
   "metadata": {
    "deletable": true,
    "editable": true
   },
   "source": [
    "### One-hot encode\n",
    "Just like the previous code cell, you'll be implementing a function for preprocessing.  This time, you'll implement the `one_hot_encode` function. The input, `x`, are a list of labels.  Implement the function to return the list of labels as One-Hot encoded Numpy array.  The possible values for labels are 0 to 9. The one-hot encoding function should return the same encoding for each value between each call to `one_hot_encode`.  Make sure to save the map of encodings outside the function.\n",
    "\n",
    "Hint: Don't reinvent the wheel."
   ]
  },
  {
   "cell_type": "code",
   "execution_count": 353,
   "metadata": {
    "collapsed": false,
    "deletable": true,
    "editable": true
   },
   "outputs": [
    {
     "name": "stdout",
     "output_type": "stream",
     "text": [
      "Tests Passed\n"
     ]
    }
   ],
   "source": [
    "from sklearn.preprocessing import LabelBinarizer\n",
    "lb = None\n",
    "\n",
    "def one_hot_encode(x):\n",
    "    \"\"\"\n",
    "    One hot encode a list of sample labels. Return a one-hot encoded vector for each label.\n",
    "    : x: List of sample Labels\n",
    "    : return: Numpy array of one-hot encoded labels\n",
    "    \"\"\"\n",
    "    # TODO: Implement Function\n",
    "    labels = np.array(x)\n",
    "    \n",
    "    global lb\n",
    "    if lb is None:\n",
    "        # Initalizing LB\n",
    "        lb = LabelBinarizer()\n",
    "        lb.fit(labels)\n",
    "    \n",
    "    return lb.transform(labels)\n",
    "\n",
    "\"\"\"\n",
    "DON'T MODIFY ANYTHING IN THIS CELL THAT IS BELOW THIS LINE\n",
    "\"\"\"\n",
    "tests.test_one_hot_encode(one_hot_encode)"
   ]
  },
  {
   "cell_type": "markdown",
   "metadata": {
    "deletable": true,
    "editable": true
   },
   "source": [
    "### Randomize Data\n",
    "As you saw from exploring the data above, the order of the samples are randomized.  It doesn't hurt to randomize it again, but you don't need to for this dataset."
   ]
  },
  {
   "cell_type": "markdown",
   "metadata": {
    "deletable": true,
    "editable": true
   },
   "source": [
    "## Preprocess all the data and save it\n",
    "Running the code cell below will preprocess all the CIFAR-10 data and save it to file. The code below also uses 10% of the training data for validation."
   ]
  },
  {
   "cell_type": "code",
   "execution_count": 354,
   "metadata": {
    "collapsed": false,
    "deletable": true,
    "editable": true
   },
   "outputs": [],
   "source": [
    "\"\"\"\n",
    "DON'T MODIFY ANYTHING IN THIS CELL\n",
    "\"\"\"\n",
    "# Preprocess Training, Validation, and Testing Data\n",
    "helper.preprocess_and_save_data(cifar10_dataset_folder_path, normalize, one_hot_encode)"
   ]
  },
  {
   "cell_type": "markdown",
   "metadata": {
    "deletable": true,
    "editable": true
   },
   "source": [
    "# Check Point\n",
    "This is your first checkpoint.  If you ever decide to come back to this notebook or have to restart the notebook, you can start from here.  The preprocessed data has been saved to disk."
   ]
  },
  {
   "cell_type": "code",
   "execution_count": 355,
   "metadata": {
    "collapsed": true,
    "deletable": true,
    "editable": true
   },
   "outputs": [],
   "source": [
    "\"\"\"\n",
    "DON'T MODIFY ANYTHING IN THIS CELL\n",
    "\"\"\"\n",
    "import pickle\n",
    "import problem_unittests as tests\n",
    "import helper\n",
    "\n",
    "# Load the Preprocessed Validation data\n",
    "valid_features, valid_labels = pickle.load(open('preprocess_validation.p', mode='rb'))"
   ]
  },
  {
   "cell_type": "markdown",
   "metadata": {
    "deletable": true,
    "editable": true
   },
   "source": [
    "## Build the network\n",
    "For the neural network, you'll build each layer into a function.  Most of the code you've seen has been outside of functions. To test your code more thoroughly, we require that you put each layer in a function.  This allows us to give you better feedback and test for simple mistakes using our unittests before you submit your project.\n",
    "\n",
    ">**Note:** If you're finding it hard to dedicate enough time for this course each week, we've provided a small shortcut to this part of the project. In the next couple of problems, you'll have the option to use classes from the [TensorFlow Layers](https://www.tensorflow.org/api_docs/python/tf/layers) or [TensorFlow Layers (contrib)](https://www.tensorflow.org/api_guides/python/contrib.layers) packages to build each layer, except the layers you build in the \"Convolutional and Max Pooling Layer\" section.  TF Layers is similar to Keras's and TFLearn's abstraction to layers, so it's easy to pickup.\n",
    "\n",
    ">However, if you would like to get the most out of this course, try to solve all the problems _without_ using anything from the TF Layers packages. You **can** still use classes from other packages that happen to have the same name as ones you find in TF Layers! For example, instead of using the TF Layers version of the `conv2d` class, [tf.layers.conv2d](https://www.tensorflow.org/api_docs/python/tf/layers/conv2d), you would want to use the TF Neural Network version of `conv2d`, [tf.nn.conv2d](https://www.tensorflow.org/api_docs/python/tf/nn/conv2d). \n",
    "\n",
    "Let's begin!\n",
    "\n",
    "### Input\n",
    "The neural network needs to read the image data, one-hot encoded labels, and dropout keep probability. Implement the following functions\n",
    "* Implement `neural_net_image_input`\n",
    " * Return a [TF Placeholder](https://www.tensorflow.org/api_docs/python/tf/placeholder)\n",
    " * Set the shape using `image_shape` with batch size set to `None`.\n",
    " * Name the TensorFlow placeholder \"x\" using the TensorFlow `name` parameter in the [TF Placeholder](https://www.tensorflow.org/api_docs/python/tf/placeholder).\n",
    "* Implement `neural_net_label_input`\n",
    " * Return a [TF Placeholder](https://www.tensorflow.org/api_docs/python/tf/placeholder)\n",
    " * Set the shape using `n_classes` with batch size set to `None`.\n",
    " * Name the TensorFlow placeholder \"y\" using the TensorFlow `name` parameter in the [TF Placeholder](https://www.tensorflow.org/api_docs/python/tf/placeholder).\n",
    "* Implement `neural_net_keep_prob_input`\n",
    " * Return a [TF Placeholder](https://www.tensorflow.org/api_docs/python/tf/placeholder) for dropout keep probability.\n",
    " * Name the TensorFlow placeholder \"keep_prob\" using the TensorFlow `name` parameter in the [TF Placeholder](https://www.tensorflow.org/api_docs/python/tf/placeholder).\n",
    "\n",
    "These names will be used at the end of the project to load your saved model.\n",
    "\n",
    "Note: `None` for shapes in TensorFlow allow for a dynamic size."
   ]
  },
  {
   "cell_type": "code",
   "execution_count": 356,
   "metadata": {
    "collapsed": false,
    "deletable": true,
    "editable": true
   },
   "outputs": [
    {
     "name": "stdout",
     "output_type": "stream",
     "text": [
      "Image Input Tests Passed.\n",
      "Label Input Tests Passed.\n",
      "Keep Prob Tests Passed.\n"
     ]
    }
   ],
   "source": [
    "import tensorflow as tf\n",
    "\n",
    "def neural_net_image_input(image_shape):\n",
    "    \"\"\"\n",
    "    Return a Tensor for a batch of image input\n",
    "    : image_shape: Shape of the images\n",
    "    : return: Tensor for image input.\n",
    "    \"\"\"\n",
    "    # TODO: Implement Function\n",
    "    shape = [None]\n",
    "    for i in image_shape:\n",
    "        shape.append(i)\n",
    "    \n",
    "    return tf.placeholder(tf.float32, shape, name='x')\n",
    "\n",
    "\n",
    "def neural_net_label_input(n_classes):\n",
    "    \"\"\"\n",
    "    Return a Tensor for a batch of label input\n",
    "    : n_classes: Number of classes\n",
    "    : return: Tensor for label input.\n",
    "    \"\"\"\n",
    "    # TODO: Implement Function\n",
    "    return tf.placeholder(tf.float32, [None, n_classes], name='y')\n",
    "\n",
    "\n",
    "def neural_net_keep_prob_input():\n",
    "    \"\"\"\n",
    "    Return a Tensor for keep probability\n",
    "    : return: Tensor for keep probability.\n",
    "    \"\"\"\n",
    "    # TODO: Implement Function\n",
    "    return tf.placeholder(tf.float32, name='keep_prob')\n",
    "\n",
    "\n",
    "\"\"\"\n",
    "DON'T MODIFY ANYTHING IN THIS CELL THAT IS BELOW THIS LINE\n",
    "\"\"\"\n",
    "tf.reset_default_graph()\n",
    "tests.test_nn_image_inputs(neural_net_image_input)\n",
    "tests.test_nn_label_inputs(neural_net_label_input)\n",
    "tests.test_nn_keep_prob_inputs(neural_net_keep_prob_input)"
   ]
  },
  {
   "cell_type": "markdown",
   "metadata": {
    "deletable": true,
    "editable": true
   },
   "source": [
    "### Convolution and Max Pooling Layer\n",
    "Convolution layers have a lot of success with images. For this code cell, you should implement the function `conv2d_maxpool` to apply convolution then max pooling:\n",
    "* Create the weight and bias using `conv_ksize`, `conv_num_outputs` and the shape of `x_tensor`.\n",
    "* Apply a convolution to `x_tensor` using weight and `conv_strides`.\n",
    " * We recommend you use same padding, but you're welcome to use any padding.\n",
    "* Add bias\n",
    "* Add a nonlinear activation to the convolution.\n",
    "* Apply Max Pooling using `pool_ksize` and `pool_strides`.\n",
    " * We recommend you use same padding, but you're welcome to use any padding.\n",
    "\n",
    "**Note:** You **can't** use [TensorFlow Layers](https://www.tensorflow.org/api_docs/python/tf/layers) or [TensorFlow Layers (contrib)](https://www.tensorflow.org/api_guides/python/contrib.layers) for **this** layer, but you can still use TensorFlow's [Neural Network](https://www.tensorflow.org/api_docs/python/tf/nn) package. You may still use the shortcut option for all the **other** layers."
   ]
  },
  {
   "cell_type": "code",
   "execution_count": 370,
   "metadata": {
    "collapsed": false,
    "deletable": true,
    "editable": true
   },
   "outputs": [
    {
     "name": "stdout",
     "output_type": "stream",
     "text": [
      "Tests Passed\n"
     ]
    }
   ],
   "source": [
    "def conv2d_maxpool(x_tensor, conv_num_outputs, conv_ksize, conv_strides, pool_ksize, pool_strides):\n",
    "    \"\"\"\n",
    "    Apply convolution then max pooling to x_tensor\n",
    "    :param x_tensor: TensorFlow Tensor\n",
    "    :param conv_num_outputs: Number of outputs for the convolutional layer\n",
    "    :param conv_ksize: kernal size 2-D Tuple for the convolutional layer\n",
    "    :param conv_strides: Stride 2-D Tuple for convolution\n",
    "    :param pool_ksize: kernal size 2-D Tuple for pool\n",
    "    :param pool_strides: Stride 2-D Tuple for pool\n",
    "    : return: A tensor that represents convolution and max pooling of x_tensor\n",
    "    \"\"\"\n",
    "    # TODO: Implement Function\n",
    "    \n",
    "    weight_shape = [conv_ksize[0], conv_ksize[1], x_tensor.shape[-1].value, conv_num_outputs]\n",
    "    pool_k_size = [1, pool_ksize[0], pool_ksize[1], 1]\n",
    "    pool_stride_size = [1, pool_strides[0], pool_strides[1], 1]\n",
    "    conv_stride_size = [1, conv_strides[0], conv_strides[1], 1]\n",
    "    \n",
    "    weight = tf.Variable(tf.truncated_normal(weight_shape, stddev=0.1))\n",
    "    bias = tf.Variable(tf.zeros(conv_num_outputs))\n",
    "\n",
    "    x = tf.nn.conv2d(x_tensor, weight, conv_stride_size, 'SAME')\n",
    "    x = tf.nn.bias_add(x, bias)\n",
    "    x = tf.nn.relu(x)\n",
    "    x = tf.nn.max_pool(x, pool_k_size, pool_stride_size, 'SAME')\n",
    "    \n",
    "    return x \n",
    "\n",
    "\n",
    "\"\"\"\n",
    "DON'T MODIFY ANYTHING IN THIS CELL THAT IS BELOW THIS LINE\n",
    "\"\"\"\n",
    "tests.test_con_pool(conv2d_maxpool)"
   ]
  },
  {
   "cell_type": "code",
   "execution_count": 371,
   "metadata": {
    "collapsed": true
   },
   "outputs": [],
   "source": [
    "def conv2d_nopool(x_tensor, conv_num_outputs, conv_ksize, conv_strides):\n",
    "    \"\"\"\n",
    "    Apply convolution to x_tensor\n",
    "    :param x_tensor: TensorFlow Tensor\n",
    "    :param conv_num_outputs: Number of outputs for the convolutional layer\n",
    "    :param conv_ksize: kernal size 2-D Tuple for the convolutional layer\n",
    "    :param conv_strides: Stride 2-D Tuple for convolution\n",
    "    : return: A tensor that represents convolution and max pooling of x_tensor\n",
    "    \"\"\"\n",
    "    \n",
    "    weight_shape = [conv_ksize[0], conv_ksize[1], int(x_tensor.shape[-1]), conv_num_outputs]\n",
    "    conv_stride_size = [1, conv_strides[0], conv_strides[1], 1]\n",
    "    \n",
    "    weight = tf.Variable(tf.truncated_normal(weight_shape))\n",
    "    bias = tf.Variable(tf.zeros(conv_num_outputs))\n",
    "\n",
    "    x = tf.nn.conv2d(x_tensor, weight, conv_stride_size, 'SAME')\n",
    "    x = tf.nn.bias_add(x, bias)\n",
    "    x = tf.nn.relu(x)\n",
    "    \n",
    "    return x \n"
   ]
  },
  {
   "cell_type": "markdown",
   "metadata": {
    "deletable": true,
    "editable": true
   },
   "source": [
    "### Flatten Layer\n",
    "Implement the `flatten` function to change the dimension of `x_tensor` from a 4-D tensor to a 2-D tensor.  The output should be the shape (*Batch Size*, *Flattened Image Size*). Shortcut option: you can use classes from the [TensorFlow Layers](https://www.tensorflow.org/api_docs/python/tf/layers) or [TensorFlow Layers (contrib)](https://www.tensorflow.org/api_guides/python/contrib.layers) packages for this layer. For more of a challenge, only use other TensorFlow packages."
   ]
  },
  {
   "cell_type": "code",
   "execution_count": 372,
   "metadata": {
    "collapsed": false,
    "deletable": true,
    "editable": true
   },
   "outputs": [
    {
     "name": "stdout",
     "output_type": "stream",
     "text": [
      "Tests Passed\n"
     ]
    }
   ],
   "source": [
    "def flatten(x_tensor):\n",
    "    \"\"\"\n",
    "    Flatten x_tensor to (Batch Size, Flattened Image Size)\n",
    "    : x_tensor: A tensor of size (Batch Size, ...), where ... are the image dimensions.\n",
    "    : return: A tensor of size (Batch Size, Flattened Image Size).\n",
    "    \"\"\"\n",
    "    # TODO: Implement Function\n",
    "    dim = x_tensor.shape.as_list()\n",
    "    dim = np.prod(dim[1:])\n",
    "    x = tf.reshape(x_tensor, [-1, dim])\n",
    "    return x\n",
    "\n",
    "\n",
    "\"\"\"\n",
    "DON'T MODIFY ANYTHING IN THIS CELL THAT IS BELOW THIS LINE\n",
    "\"\"\"\n",
    "tests.test_flatten(flatten)"
   ]
  },
  {
   "cell_type": "markdown",
   "metadata": {
    "deletable": true,
    "editable": true
   },
   "source": [
    "### Fully-Connected Layer\n",
    "Implement the `fully_conn` function to apply a fully connected layer to `x_tensor` with the shape (*Batch Size*, *num_outputs*). Shortcut option: you can use classes from the [TensorFlow Layers](https://www.tensorflow.org/api_docs/python/tf/layers) or [TensorFlow Layers (contrib)](https://www.tensorflow.org/api_guides/python/contrib.layers) packages for this layer. For more of a challenge, only use other TensorFlow packages."
   ]
  },
  {
   "cell_type": "code",
   "execution_count": 380,
   "metadata": {
    "collapsed": false,
    "deletable": true,
    "editable": true
   },
   "outputs": [
    {
     "name": "stdout",
     "output_type": "stream",
     "text": [
      "Tests Passed\n"
     ]
    }
   ],
   "source": [
    "def fully_conn(x_tensor, num_outputs):\n",
    "    \"\"\"\n",
    "    Apply a fully connected layer to x_tensor using weight and bias\n",
    "    : x_tensor: A 2-D tensor where the first dimension is batch size.\n",
    "    : num_outputs: The number of output that the new tensor should be.\n",
    "    : return: A 2-D tensor where the second dimension is num_outputs.\n",
    "    \"\"\"\n",
    "    # TODO: Implement Function\n",
    "    weight = tf.Variable(tf.truncated_normal((int(x_tensor.shape[-1]), num_outputs), stddev=0.1))\n",
    "    bias = tf.Variable(tf.zeros(num_outputs))\n",
    "    fc = tf.nn.bias_add(tf.matmul(x_tensor, weight), bias)\n",
    "    fc = tf.nn.relu(fc)\n",
    "    return fc\n",
    "\n",
    "\n",
    "\"\"\"\n",
    "DON'T MODIFY ANYTHING IN THIS CELL THAT IS BELOW THIS LINE\n",
    "\"\"\"\n",
    "tests.test_fully_conn(fully_conn)"
   ]
  },
  {
   "cell_type": "markdown",
   "metadata": {
    "deletable": true,
    "editable": true
   },
   "source": [
    "### Output Layer\n",
    "Implement the `output` function to apply a fully connected layer to `x_tensor` with the shape (*Batch Size*, *num_outputs*). Shortcut option: you can use classes from the [TensorFlow Layers](https://www.tensorflow.org/api_docs/python/tf/layers) or [TensorFlow Layers (contrib)](https://www.tensorflow.org/api_guides/python/contrib.layers) packages for this layer. For more of a challenge, only use other TensorFlow packages.\n",
    "\n",
    "**Note:** Activation, softmax, or cross entropy should **not** be applied to this."
   ]
  },
  {
   "cell_type": "code",
   "execution_count": 381,
   "metadata": {
    "collapsed": false,
    "deletable": true,
    "editable": true
   },
   "outputs": [
    {
     "name": "stdout",
     "output_type": "stream",
     "text": [
      "Tests Passed\n"
     ]
    }
   ],
   "source": [
    "def output(x_tensor, num_outputs):\n",
    "    \"\"\"\n",
    "    Apply a output layer to x_tensor using weight and bias\n",
    "    : x_tensor: A 2-D tensor where the first dimension is batch size.\n",
    "    : num_outputs: The number of output that the new tensor should be.\n",
    "    : return: A 2-D tensor where the second dimension is num_outputs.\n",
    "    \"\"\"\n",
    "    # TODO: Implement Function\n",
    "    weight = tf.Variable(tf.truncated_normal((int(x_tensor.shape[-1]), num_outputs), stddev=0.1))\n",
    "    bias = tf.Variable(tf.zeros(num_outputs))                  \n",
    "    return tf.nn.bias_add(tf.matmul(x_tensor, weight), bias)\n",
    "\n",
    "\n",
    "\"\"\"\n",
    "DON'T MODIFY ANYTHING IN THIS CELL THAT IS BELOW THIS LINE\n",
    "\"\"\"\n",
    "tests.test_output(output)"
   ]
  },
  {
   "cell_type": "markdown",
   "metadata": {
    "deletable": true,
    "editable": true
   },
   "source": [
    "### Create Convolutional Model\n",
    "Implement the function `conv_net` to create a convolutional neural network model. The function takes in a batch of images, `x`, and outputs logits.  Use the layers you created above to create this model:\n",
    "\n",
    "* Apply 1, 2, or 3 Convolution and Max Pool layers\n",
    "* Apply a Flatten Layer\n",
    "* Apply 1, 2, or 3 Fully Connected Layers\n",
    "* Apply an Output Layer\n",
    "* Return the output\n",
    "* Apply [TensorFlow's Dropout](https://www.tensorflow.org/api_docs/python/tf/nn/dropout) to one or more layers in the model using `keep_prob`. "
   ]
  },
  {
   "cell_type": "code",
   "execution_count": 482,
   "metadata": {
    "collapsed": false,
    "deletable": true,
    "editable": true
   },
   "outputs": [
    {
     "name": "stdout",
     "output_type": "stream",
     "text": [
      "Neural Network Built!\n"
     ]
    }
   ],
   "source": [
    "def conv_net(x, keep_prob):\n",
    "    \"\"\"\n",
    "    Create a convolutional neural network model\n",
    "    : x: Placeholder tensor that holds image data.\n",
    "    : keep_prob: Placeholder tensor that hold dropout keep probability.\n",
    "    : return: Tensor that represents logits\n",
    "    \"\"\"\n",
    "    # TODO: Apply 1, 2, or 3 Convolution and Max Pool layers\n",
    "    #    Play around with different number of outputs, kernel size and stride\n",
    "    # Function Definition from Above:\n",
    "    #    conv2d_maxpool(x_tensor, conv_num_outputs, conv_ksize, conv_strides, pool_ksize, pool_strides)\n",
    "    conv_ksize = (2, 2)\n",
    "    conv_strides = (1, 1)\n",
    "    pool_ksize = (2, 2)\n",
    "    pool_strides = (2, 2)\n",
    "    \n",
    "    x = conv2d_nopool(x, 32, conv_ksize, conv_strides)\n",
    "    x = conv2d_maxpool(x, 64, conv_ksize, conv_strides, pool_ksize, pool_strides)\n",
    "    x = conv2d_maxpool(x, 128, conv_ksize, conv_strides, pool_ksize, pool_strides)\n",
    "    x = conv2d_maxpool(x, 256, conv_ksize, conv_strides, pool_ksize, pool_strides)\n",
    "    x = tf.nn.dropout(x, keep_prob)\n",
    "    \n",
    "    x = flatten(x)\n",
    "    x = fully_conn(x, 512)\n",
    "    x = fully_conn(x, 256)\n",
    "    x = tf.nn.dropout(x, keep_prob)\n",
    "    \n",
    "    x = output(x, 10)\n",
    "    \n",
    "    return x\n",
    "\n",
    "\n",
    "\"\"\"\n",
    "DON'T MODIFY ANYTHING IN THIS CELL THAT IS BELOW THIS LINE\n",
    "\"\"\"\n",
    "\n",
    "##############################\n",
    "## Build the Neural Network ##\n",
    "##############################\n",
    "\n",
    "# Remove previous weights, bias, inputs, etc..\n",
    "tf.reset_default_graph()\n",
    "\n",
    "# Inputs\n",
    "x = neural_net_image_input((32, 32, 3))\n",
    "y = neural_net_label_input(10)\n",
    "keep_prob = neural_net_keep_prob_input()\n",
    "\n",
    "# Model\n",
    "logits = conv_net(x, keep_prob)\n",
    "\n",
    "# Name logits Tensor, so that is can be loaded from disk after training\n",
    "logits = tf.identity(logits, name='logits')\n",
    "\n",
    "# Loss and Optimizer\n",
    "cost = tf.reduce_mean(tf.nn.softmax_cross_entropy_with_logits(logits=logits, labels=y))\n",
    "optimizer = tf.train.AdamOptimizer().minimize(cost)\n",
    "\n",
    "# Accuracy\n",
    "correct_pred = tf.equal(tf.argmax(logits, 1), tf.argmax(y, 1))\n",
    "accuracy = tf.reduce_mean(tf.cast(correct_pred, tf.float32), name='accuracy')\n",
    "\n",
    "tests.test_conv_net(conv_net)"
   ]
  },
  {
   "cell_type": "markdown",
   "metadata": {
    "deletable": true,
    "editable": true
   },
   "source": [
    "## Train the Neural Network\n",
    "### Single Optimization\n",
    "Implement the function `train_neural_network` to do a single optimization.  The optimization should use `optimizer` to optimize in `session` with a `feed_dict` of the following:\n",
    "* `x` for image input\n",
    "* `y` for labels\n",
    "* `keep_prob` for keep probability for dropout\n",
    "\n",
    "This function will be called for each batch, so `tf.global_variables_initializer()` has already been called.\n",
    "\n",
    "Note: Nothing needs to be returned. This function is only optimizing the neural network."
   ]
  },
  {
   "cell_type": "code",
   "execution_count": 483,
   "metadata": {
    "collapsed": false,
    "deletable": true,
    "editable": true
   },
   "outputs": [
    {
     "name": "stdout",
     "output_type": "stream",
     "text": [
      "Tests Passed\n"
     ]
    }
   ],
   "source": [
    "def train_neural_network(session, optimizer, keep_probability, feature_batch, label_batch):\n",
    "    \"\"\"\n",
    "    Optimize the session on a batch of images and labels\n",
    "    : session: Current TensorFlow session\n",
    "    : optimizer: TensorFlow optimizer function\n",
    "    : keep_probability: keep probability\n",
    "    : feature_batch: Batch of Numpy image data\n",
    "    : label_batch: Batch of Numpy label data\n",
    "    \"\"\"\n",
    "    # TODO: Implement Function\n",
    "    session.run(optimizer, feed_dict={keep_prob:keep_probability, x:feature_batch, y:label_batch})\n",
    "\n",
    "\n",
    "\"\"\"\n",
    "DON'T MODIFY ANYTHING IN THIS CELL THAT IS BELOW THIS LINE\n",
    "\"\"\"\n",
    "tests.test_train_nn(train_neural_network)"
   ]
  },
  {
   "cell_type": "markdown",
   "metadata": {
    "deletable": true,
    "editable": true
   },
   "source": [
    "### Show Stats\n",
    "Implement the function `print_stats` to print loss and validation accuracy.  Use the global variables `valid_features` and `valid_labels` to calculate validation accuracy.  Use a keep probability of `1.0` to calculate the loss and validation accuracy."
   ]
  },
  {
   "cell_type": "code",
   "execution_count": 484,
   "metadata": {
    "collapsed": false,
    "deletable": true,
    "editable": true
   },
   "outputs": [],
   "source": [
    "def print_stats(session, feature_batch, label_batch, cost, accuracy):\n",
    "    \"\"\"\n",
    "    Print information about loss and validation accuracy\n",
    "    : session: Current TensorFlow session\n",
    "    : feature_batch: Batch of Numpy image data\n",
    "    : label_batch: Batch of Numpy label data\n",
    "    : cost: TensorFlow cost function\n",
    "    : accuracy: TensorFlow accuracy function\n",
    "    \"\"\"\n",
    "    # TODO: Implement Function\n",
    "    global valid_features, valid_labels\n",
    "    t_loss, t_acc = session.run([cost, accuracy], feed_dict={x:feature_batch, y:label_batch, keep_prob:1})\n",
    "    v_loss, valid_acc = session.run([cost, accuracy], feed_dict={x: valid_features, y: valid_labels, keep_prob:1.})\n",
    "    print('Train Loss {:.4f}, Train Acc {:.6f}, Val Loss {:.4f}, Validation Acc {:.6f}'.\n",
    "          format(t_loss, t_acc, v_loss, valid_acc))"
   ]
  },
  {
   "cell_type": "markdown",
   "metadata": {
    "deletable": true,
    "editable": true
   },
   "source": [
    "### Hyperparameters\n",
    "Tune the following parameters:\n",
    "* Set `epochs` to the number of iterations until the network stops learning or start overfitting\n",
    "* Set `batch_size` to the highest number that your machine has memory for.  Most people set them to common sizes of memory:\n",
    " * 64\n",
    " * 128\n",
    " * 256\n",
    " * ...\n",
    "* Set `keep_probability` to the probability of keeping a node using dropout"
   ]
  },
  {
   "cell_type": "code",
   "execution_count": 491,
   "metadata": {
    "collapsed": true,
    "deletable": true,
    "editable": true
   },
   "outputs": [],
   "source": [
    "# TODO: Tune Parameters\n",
    "epochs = 60\n",
    "batch_size = 1024\n",
    "keep_probability = 0.5\n"
   ]
  },
  {
   "cell_type": "markdown",
   "metadata": {
    "deletable": true,
    "editable": true
   },
   "source": [
    "### Train on a Single CIFAR-10 Batch\n",
    "Instead of training the neural network on all the CIFAR-10 batches of data, let's use a single batch. This should save time while you iterate on the model to get a better accuracy.  Once the final validation accuracy is 50% or greater, run the model on all the data in the next section."
   ]
  },
  {
   "cell_type": "code",
   "execution_count": 496,
   "metadata": {
    "collapsed": false,
    "deletable": true,
    "editable": true,
    "scrolled": true
   },
   "outputs": [
    {
     "name": "stdout",
     "output_type": "stream",
     "text": [
      "Checking the Training on a Single Batch...\n",
      "Epoch  1, CIFAR-10 Batch 1:  Train Loss 2.3748, Train Acc 0.122525, Val Loss 2.3884, Validation Acc 0.110000\n",
      "Epoch  2, CIFAR-10 Batch 1:  Train Loss 2.2899, Train Acc 0.122525, Val Loss 2.2915, Validation Acc 0.122600\n",
      "Epoch  3, CIFAR-10 Batch 1:  Train Loss 2.2778, Train Acc 0.172030, Val Loss 2.2772, Validation Acc 0.175200\n",
      "Epoch  4, CIFAR-10 Batch 1:  Train Loss 2.2228, Train Acc 0.227723, Val Loss 2.2185, Validation Acc 0.235800\n",
      "Epoch  5, CIFAR-10 Batch 1:  Train Loss 2.0965, Train Acc 0.262376, Val Loss 2.0895, Validation Acc 0.270000\n",
      "Epoch  6, CIFAR-10 Batch 1:  Train Loss 2.0215, Train Acc 0.331683, Val Loss 2.0097, Validation Acc 0.310600\n",
      "Epoch  7, CIFAR-10 Batch 1:  Train Loss 1.9446, Train Acc 0.332921, Val Loss 1.9362, Validation Acc 0.325400\n",
      "Epoch  8, CIFAR-10 Batch 1:  Train Loss 1.8797, Train Acc 0.378713, Val Loss 1.8769, Validation Acc 0.351800\n",
      "Epoch  9, CIFAR-10 Batch 1:  Train Loss 1.7945, Train Acc 0.409653, Val Loss 1.8066, Validation Acc 0.380600\n",
      "Epoch 10, CIFAR-10 Batch 1:  Train Loss 1.7338, Train Acc 0.439356, Val Loss 1.7546, Validation Acc 0.400000\n",
      "Epoch 11, CIFAR-10 Batch 1:  Train Loss 1.6464, Train Acc 0.425743, Val Loss 1.6675, Validation Acc 0.417800\n",
      "Epoch 12, CIFAR-10 Batch 1:  Train Loss 1.5884, Train Acc 0.462871, Val Loss 1.6293, Validation Acc 0.428200\n",
      "Epoch 13, CIFAR-10 Batch 1:  Train Loss 1.5456, Train Acc 0.459158, Val Loss 1.5846, Validation Acc 0.440000\n",
      "Epoch 14, CIFAR-10 Batch 1:  Train Loss 1.4977, Train Acc 0.493812, Val Loss 1.5505, Validation Acc 0.454000\n",
      "Epoch 15, CIFAR-10 Batch 1:  Train Loss 1.4591, Train Acc 0.482673, Val Loss 1.5243, Validation Acc 0.453400\n",
      "Epoch 16, CIFAR-10 Batch 1:  Train Loss 1.4010, Train Acc 0.498762, Val Loss 1.4735, Validation Acc 0.464200\n",
      "Epoch 17, CIFAR-10 Batch 1:  Train Loss 1.3790, Train Acc 0.518564, Val Loss 1.4613, Validation Acc 0.471400\n",
      "Epoch 18, CIFAR-10 Batch 1:  Train Loss 1.3375, Train Acc 0.525990, Val Loss 1.4230, Validation Acc 0.488600\n",
      "Epoch 19, CIFAR-10 Batch 1:  Train Loss 1.3093, Train Acc 0.554455, Val Loss 1.4123, Validation Acc 0.495200\n",
      "Epoch 20, CIFAR-10 Batch 1:  Train Loss 1.2563, Train Acc 0.563119, Val Loss 1.3790, Validation Acc 0.500800\n",
      "Epoch 21, CIFAR-10 Batch 1:  Train Loss 1.2565, Train Acc 0.581683, Val Loss 1.3881, Validation Acc 0.501800\n",
      "Epoch 22, CIFAR-10 Batch 1:  Train Loss 1.2014, Train Acc 0.577970, Val Loss 1.3435, Validation Acc 0.519600\n",
      "Epoch 23, CIFAR-10 Batch 1:  Train Loss 1.1677, Train Acc 0.587871, Val Loss 1.3136, Validation Acc 0.527400\n",
      "Epoch 24, CIFAR-10 Batch 1:  Train Loss 1.1555, Train Acc 0.602723, Val Loss 1.3069, Validation Acc 0.525000\n",
      "Epoch 25, CIFAR-10 Batch 1:  Train Loss 1.1013, Train Acc 0.631188, Val Loss 1.2665, Validation Acc 0.547200\n",
      "Epoch 26, CIFAR-10 Batch 1:  Train Loss 1.0681, Train Acc 0.633663, Val Loss 1.2610, Validation Acc 0.543000\n",
      "Epoch 27, CIFAR-10 Batch 1:  Train Loss 1.0340, Train Acc 0.642327, Val Loss 1.2425, Validation Acc 0.556600\n",
      "Epoch 28, CIFAR-10 Batch 1:  Train Loss 1.0109, Train Acc 0.652228, Val Loss 1.2248, Validation Acc 0.553800\n",
      "Epoch 29, CIFAR-10 Batch 1:  Train Loss 1.0369, Train Acc 0.643564, Val Loss 1.2643, Validation Acc 0.543800\n",
      "Epoch 30, CIFAR-10 Batch 1:  Train Loss 0.9965, Train Acc 0.667079, Val Loss 1.2332, Validation Acc 0.558400\n",
      "Epoch 31, CIFAR-10 Batch 1:  Train Loss 0.9110, Train Acc 0.684406, Val Loss 1.1817, Validation Acc 0.582600\n",
      "Epoch 32, CIFAR-10 Batch 1:  Train Loss 0.9202, Train Acc 0.676980, Val Loss 1.1937, Validation Acc 0.577000\n",
      "Epoch 33, CIFAR-10 Batch 1:  Train Loss 0.8708, Train Acc 0.701733, Val Loss 1.1669, Validation Acc 0.587600\n",
      "Epoch 34, CIFAR-10 Batch 1:  Train Loss 0.8681, Train Acc 0.696782, Val Loss 1.1634, Validation Acc 0.587600\n",
      "Epoch 35, CIFAR-10 Batch 1:  Train Loss 0.8170, Train Acc 0.720297, Val Loss 1.1340, Validation Acc 0.595800\n",
      "Epoch 36, CIFAR-10 Batch 1:  Train Loss 0.8339, Train Acc 0.710396, Val Loss 1.1506, Validation Acc 0.592400\n",
      "Epoch 37, CIFAR-10 Batch 1:  Train Loss 0.7839, Train Acc 0.728960, Val Loss 1.1406, Validation Acc 0.603600\n",
      "Epoch 38, CIFAR-10 Batch 1:  Train Loss 0.7656, Train Acc 0.737624, Val Loss 1.1239, Validation Acc 0.606400\n",
      "Epoch 39, CIFAR-10 Batch 1:  Train Loss 0.7515, Train Acc 0.743812, Val Loss 1.1297, Validation Acc 0.603800\n",
      "Epoch 40, CIFAR-10 Batch 1:  Train Loss 0.7692, Train Acc 0.746287, Val Loss 1.1605, Validation Acc 0.597200\n",
      "Epoch 41, CIFAR-10 Batch 1:  Train Loss 0.7500, Train Acc 0.740099, Val Loss 1.1707, Validation Acc 0.596400\n",
      "Epoch 42, CIFAR-10 Batch 1:  Train Loss 0.6992, Train Acc 0.766089, Val Loss 1.0992, Validation Acc 0.609200\n",
      "Epoch 43, CIFAR-10 Batch 1:  Train Loss 0.6848, Train Acc 0.773515, Val Loss 1.0820, Validation Acc 0.615400\n",
      "Epoch 44, CIFAR-10 Batch 1:  Train Loss 0.6573, Train Acc 0.782178, Val Loss 1.0959, Validation Acc 0.615400\n",
      "Epoch 45, CIFAR-10 Batch 1:  Train Loss 0.6466, Train Acc 0.778465, Val Loss 1.1001, Validation Acc 0.616600\n",
      "Epoch 46, CIFAR-10 Batch 1:  Train Loss 0.6308, Train Acc 0.784653, Val Loss 1.0868, Validation Acc 0.622200\n",
      "Epoch 47, CIFAR-10 Batch 1:  Train Loss 0.6063, Train Acc 0.793317, Val Loss 1.0818, Validation Acc 0.619400\n",
      "Epoch 48, CIFAR-10 Batch 1:  Train Loss 0.5739, Train Acc 0.815594, Val Loss 1.0685, Validation Acc 0.628200\n",
      "Epoch 49, CIFAR-10 Batch 1:  Train Loss 0.5476, Train Acc 0.827970, Val Loss 1.0687, Validation Acc 0.631400\n",
      "Epoch 50, CIFAR-10 Batch 1:  Train Loss 0.5305, Train Acc 0.819307, Val Loss 1.0822, Validation Acc 0.630000\n",
      "Epoch 51, CIFAR-10 Batch 1:  Train Loss 0.5220, Train Acc 0.819307, Val Loss 1.0740, Validation Acc 0.627200\n",
      "Epoch 52, CIFAR-10 Batch 1:  Train Loss 0.5278, Train Acc 0.821782, Val Loss 1.1064, Validation Acc 0.613200\n",
      "Epoch 53, CIFAR-10 Batch 1:  Train Loss 0.4765, Train Acc 0.835396, Val Loss 1.0795, Validation Acc 0.632400\n",
      "Epoch 54, CIFAR-10 Batch 1:  Train Loss 0.4642, Train Acc 0.844059, Val Loss 1.0668, Validation Acc 0.632000\n",
      "Epoch 55, CIFAR-10 Batch 1:  Train Loss 0.4656, Train Acc 0.846535, Val Loss 1.0665, Validation Acc 0.628600\n",
      "Epoch 56, CIFAR-10 Batch 1:  Train Loss 0.4468, Train Acc 0.872525, Val Loss 1.0809, Validation Acc 0.629200\n",
      "Epoch 57, CIFAR-10 Batch 1:  Train Loss 0.4413, Train Acc 0.865099, Val Loss 1.0801, Validation Acc 0.629800\n",
      "Epoch 58, CIFAR-10 Batch 1:  Train Loss 0.4364, Train Acc 0.860148, Val Loss 1.0935, Validation Acc 0.626000\n",
      "Epoch 59, CIFAR-10 Batch 1:  Train Loss 0.4382, Train Acc 0.860148, Val Loss 1.1222, Validation Acc 0.628800\n",
      "Epoch 60, CIFAR-10 Batch 1:  Train Loss 0.4267, Train Acc 0.865099, Val Loss 1.1027, Validation Acc 0.620000\n",
      "Training Time:  92.8809289932251 s\n"
     ]
    }
   ],
   "source": [
    "\"\"\"\n",
    "DON'T MODIFY ANYTHING IN THIS CELL\n",
    "\"\"\"\n",
    "import time\n",
    "start = time.time()\n",
    "\n",
    "print('Checking the Training on a Single Batch...')\n",
    "with tf.Session() as sess:\n",
    "    # Initializing the variables\n",
    "    sess.run(tf.global_variables_initializer())\n",
    "    \n",
    "    # Training cycle\n",
    "    for epoch in range(epochs):\n",
    "        batch_i = 1\n",
    "        for batch_features, batch_labels in helper.load_preprocess_training_batch(batch_i, batch_size):\n",
    "            train_neural_network(sess, optimizer, keep_probability, batch_features, batch_labels)\n",
    "        print('Epoch {:>2}, CIFAR-10 Batch {}:  '.format(epoch + 1, batch_i), end='')\n",
    "        print_stats(sess, batch_features, batch_labels, cost, accuracy)\n",
    "    \n",
    "    end = time.time()\n",
    "    print('Training Time: ', end - start, 's')"
   ]
  },
  {
   "cell_type": "markdown",
   "metadata": {
    "deletable": true,
    "editable": true
   },
   "source": [
    "### Fully Train the Model\n",
    "Now that you got a good accuracy with a single CIFAR-10 batch, try it with all five batches."
   ]
  },
  {
   "cell_type": "code",
   "execution_count": 494,
   "metadata": {
    "collapsed": false,
    "deletable": true,
    "editable": true
   },
   "outputs": [
    {
     "name": "stdout",
     "output_type": "stream",
     "text": [
      "Training...\n",
      "Epoch  1, CIFAR-10 Batch 1:  Train Loss 2.2649, Train Acc 0.144802, Val Loss 2.2606, Validation Acc 0.163800\n",
      "Epoch  1, CIFAR-10 Batch 2:  Train Loss 2.2415, Train Acc 0.169554, Val Loss 2.2429, Validation Acc 0.178000\n",
      "Epoch  1, CIFAR-10 Batch 3:  Train Loss 2.1350, Train Acc 0.217822, Val Loss 2.1425, Validation Acc 0.217800\n",
      "Epoch  1, CIFAR-10 Batch 4:  Train Loss 1.9755, Train Acc 0.299505, Val Loss 2.0089, Validation Acc 0.272000\n",
      "Epoch  1, CIFAR-10 Batch 5:  Train Loss 1.9362, Train Acc 0.310644, Val Loss 1.9319, Validation Acc 0.310400\n",
      "Epoch  2, CIFAR-10 Batch 1:  Train Loss 1.8328, Train Acc 0.365099, Val Loss 1.8072, Validation Acc 0.366800\n",
      "Epoch  2, CIFAR-10 Batch 2:  Train Loss 1.7449, Train Acc 0.394802, Val Loss 1.7527, Validation Acc 0.385400\n",
      "Epoch  2, CIFAR-10 Batch 3:  Train Loss 1.6137, Train Acc 0.440594, Val Loss 1.6677, Validation Acc 0.411800\n",
      "Epoch  2, CIFAR-10 Batch 4:  Train Loss 1.5840, Train Acc 0.428218, Val Loss 1.6178, Validation Acc 0.422200\n",
      "Epoch  2, CIFAR-10 Batch 5:  Train Loss 1.5527, Train Acc 0.423267, Val Loss 1.5570, Validation Acc 0.439600\n",
      "Epoch  3, CIFAR-10 Batch 1:  Train Loss 1.5158, Train Acc 0.462871, Val Loss 1.5101, Validation Acc 0.460800\n",
      "Epoch  3, CIFAR-10 Batch 2:  Train Loss 1.4674, Train Acc 0.470297, Val Loss 1.4992, Validation Acc 0.454800\n",
      "Epoch  3, CIFAR-10 Batch 3:  Train Loss 1.3751, Train Acc 0.508663, Val Loss 1.4440, Validation Acc 0.478000\n",
      "Epoch  3, CIFAR-10 Batch 4:  Train Loss 1.3789, Train Acc 0.512376, Val Loss 1.4203, Validation Acc 0.482800\n",
      "Epoch  3, CIFAR-10 Batch 5:  Train Loss 1.3444, Train Acc 0.511139, Val Loss 1.3749, Validation Acc 0.493200\n",
      "Epoch  4, CIFAR-10 Batch 1:  Train Loss 1.3476, Train Acc 0.537129, Val Loss 1.3864, Validation Acc 0.487000\n",
      "Epoch  4, CIFAR-10 Batch 2:  Train Loss 1.3234, Train Acc 0.528465, Val Loss 1.3690, Validation Acc 0.500000\n",
      "Epoch  4, CIFAR-10 Batch 3:  Train Loss 1.2360, Train Acc 0.550743, Val Loss 1.3171, Validation Acc 0.521000\n",
      "Epoch  4, CIFAR-10 Batch 4:  Train Loss 1.2393, Train Acc 0.530941, Val Loss 1.3018, Validation Acc 0.532200\n",
      "Epoch  4, CIFAR-10 Batch 5:  Train Loss 1.2351, Train Acc 0.564356, Val Loss 1.2743, Validation Acc 0.539200\n",
      "Epoch  5, CIFAR-10 Batch 1:  Train Loss 1.2411, Train Acc 0.587871, Val Loss 1.2806, Validation Acc 0.541400\n",
      "Epoch  5, CIFAR-10 Batch 2:  Train Loss 1.2122, Train Acc 0.566832, Val Loss 1.2483, Validation Acc 0.543000\n",
      "Epoch  5, CIFAR-10 Batch 3:  Train Loss 1.1238, Train Acc 0.615099, Val Loss 1.2284, Validation Acc 0.551600\n",
      "Epoch  5, CIFAR-10 Batch 4:  Train Loss 1.1448, Train Acc 0.594059, Val Loss 1.2307, Validation Acc 0.559200\n",
      "Epoch  5, CIFAR-10 Batch 5:  Train Loss 1.1554, Train Acc 0.605198, Val Loss 1.2276, Validation Acc 0.562800\n",
      "Epoch  6, CIFAR-10 Batch 1:  Train Loss 1.1380, Train Acc 0.597772, Val Loss 1.1940, Validation Acc 0.563400\n",
      "Epoch  6, CIFAR-10 Batch 2:  Train Loss 1.1387, Train Acc 0.584158, Val Loss 1.1775, Validation Acc 0.574400\n",
      "Epoch  6, CIFAR-10 Batch 3:  Train Loss 1.0744, Train Acc 0.607673, Val Loss 1.1647, Validation Acc 0.581200\n",
      "Epoch  6, CIFAR-10 Batch 4:  Train Loss 1.0927, Train Acc 0.622525, Val Loss 1.1737, Validation Acc 0.580400\n",
      "Epoch  6, CIFAR-10 Batch 5:  Train Loss 1.0582, Train Acc 0.648515, Val Loss 1.1467, Validation Acc 0.590000\n",
      "Epoch  7, CIFAR-10 Batch 1:  Train Loss 1.1016, Train Acc 0.622525, Val Loss 1.1791, Validation Acc 0.577600\n",
      "Epoch  7, CIFAR-10 Batch 2:  Train Loss 1.0999, Train Acc 0.616337, Val Loss 1.1633, Validation Acc 0.579000\n",
      "Epoch  7, CIFAR-10 Batch 3:  Train Loss 1.0040, Train Acc 0.646040, Val Loss 1.1192, Validation Acc 0.600000\n",
      "Epoch  7, CIFAR-10 Batch 4:  Train Loss 1.0030, Train Acc 0.647277, Val Loss 1.1120, Validation Acc 0.598000\n",
      "Epoch  7, CIFAR-10 Batch 5:  Train Loss 0.9912, Train Acc 0.675743, Val Loss 1.1017, Validation Acc 0.610600\n",
      "Epoch  8, CIFAR-10 Batch 1:  Train Loss 1.0133, Train Acc 0.658416, Val Loss 1.1067, Validation Acc 0.610400\n",
      "Epoch  8, CIFAR-10 Batch 2:  Train Loss 1.0077, Train Acc 0.648515, Val Loss 1.0816, Validation Acc 0.612800\n",
      "Epoch  8, CIFAR-10 Batch 3:  Train Loss 0.9499, Train Acc 0.660891, Val Loss 1.0764, Validation Acc 0.611400\n",
      "Epoch  8, CIFAR-10 Batch 4:  Train Loss 0.9688, Train Acc 0.658416, Val Loss 1.0784, Validation Acc 0.619000\n",
      "Epoch  8, CIFAR-10 Batch 5:  Train Loss 0.9461, Train Acc 0.695544, Val Loss 1.0711, Validation Acc 0.612800\n",
      "Epoch  9, CIFAR-10 Batch 1:  Train Loss 0.9569, Train Acc 0.670792, Val Loss 1.0450, Validation Acc 0.630000\n",
      "Epoch  9, CIFAR-10 Batch 2:  Train Loss 0.9734, Train Acc 0.659653, Val Loss 1.0453, Validation Acc 0.627000\n",
      "Epoch  9, CIFAR-10 Batch 3:  Train Loss 0.8955, Train Acc 0.672030, Val Loss 1.0300, Validation Acc 0.634800\n",
      "Epoch  9, CIFAR-10 Batch 4:  Train Loss 0.9071, Train Acc 0.694307, Val Loss 1.0277, Validation Acc 0.640600\n",
      "Epoch  9, CIFAR-10 Batch 5:  Train Loss 0.8863, Train Acc 0.705446, Val Loss 1.0258, Validation Acc 0.636800\n",
      "Epoch 10, CIFAR-10 Batch 1:  Train Loss 0.9235, Train Acc 0.676980, Val Loss 1.0199, Validation Acc 0.643400\n",
      "Epoch 10, CIFAR-10 Batch 2:  Train Loss 0.9127, Train Acc 0.684406, Val Loss 1.0134, Validation Acc 0.640200\n",
      "Epoch 10, CIFAR-10 Batch 3:  Train Loss 0.8599, Train Acc 0.678218, Val Loss 0.9925, Validation Acc 0.647600\n",
      "Epoch 10, CIFAR-10 Batch 4:  Train Loss 0.8800, Train Acc 0.693069, Val Loss 1.0062, Validation Acc 0.646200\n",
      "Epoch 10, CIFAR-10 Batch 5:  Train Loss 0.8227, Train Acc 0.733911, Val Loss 0.9795, Validation Acc 0.648400\n",
      "Epoch 11, CIFAR-10 Batch 1:  Train Loss 0.9176, Train Acc 0.665842, Val Loss 1.0265, Validation Acc 0.637000\n",
      "Epoch 11, CIFAR-10 Batch 2:  Train Loss 0.8788, Train Acc 0.704208, Val Loss 1.0030, Validation Acc 0.646600\n",
      "Epoch 11, CIFAR-10 Batch 3:  Train Loss 0.8132, Train Acc 0.705446, Val Loss 0.9576, Validation Acc 0.659400\n",
      "Epoch 11, CIFAR-10 Batch 4:  Train Loss 0.8097, Train Acc 0.715347, Val Loss 0.9501, Validation Acc 0.664600\n",
      "Epoch 11, CIFAR-10 Batch 5:  Train Loss 0.7964, Train Acc 0.745050, Val Loss 0.9580, Validation Acc 0.660600\n",
      "Epoch 12, CIFAR-10 Batch 1:  Train Loss 0.8328, Train Acc 0.722772, Val Loss 0.9586, Validation Acc 0.658000\n",
      "Epoch 12, CIFAR-10 Batch 2:  Train Loss 0.8245, Train Acc 0.728960, Val Loss 0.9498, Validation Acc 0.664400\n",
      "Epoch 12, CIFAR-10 Batch 3:  Train Loss 0.8168, Train Acc 0.712871, Val Loss 0.9672, Validation Acc 0.660200\n",
      "Epoch 12, CIFAR-10 Batch 4:  Train Loss 0.7645, Train Acc 0.728960, Val Loss 0.9320, Validation Acc 0.667200\n",
      "Epoch 12, CIFAR-10 Batch 5:  Train Loss 0.7529, Train Acc 0.761139, Val Loss 0.9250, Validation Acc 0.675200\n",
      "Epoch 13, CIFAR-10 Batch 1:  Train Loss 0.7905, Train Acc 0.712871, Val Loss 0.9246, Validation Acc 0.683000\n",
      "Epoch 13, CIFAR-10 Batch 2:  Train Loss 0.8153, Train Acc 0.724010, Val Loss 0.9489, Validation Acc 0.658600\n",
      "Epoch 13, CIFAR-10 Batch 3:  Train Loss 0.7623, Train Acc 0.724010, Val Loss 0.9330, Validation Acc 0.676000\n",
      "Epoch 13, CIFAR-10 Batch 4:  Train Loss 0.7284, Train Acc 0.740099, Val Loss 0.8981, Validation Acc 0.683400\n",
      "Epoch 13, CIFAR-10 Batch 5:  Train Loss 0.7091, Train Acc 0.758663, Val Loss 0.8918, Validation Acc 0.679000\n",
      "Epoch 14, CIFAR-10 Batch 1:  Train Loss 0.7490, Train Acc 0.731436, Val Loss 0.9000, Validation Acc 0.685000\n",
      "Epoch 14, CIFAR-10 Batch 2:  Train Loss 0.7330, Train Acc 0.743812, Val Loss 0.8833, Validation Acc 0.691000\n",
      "Epoch 14, CIFAR-10 Batch 3:  Train Loss 0.7176, Train Acc 0.746287, Val Loss 0.8942, Validation Acc 0.680400\n",
      "Epoch 14, CIFAR-10 Batch 4:  Train Loss 0.6947, Train Acc 0.745049, Val Loss 0.8916, Validation Acc 0.681600\n",
      "Epoch 14, CIFAR-10 Batch 5:  Train Loss 0.6713, Train Acc 0.782178, Val Loss 0.8735, Validation Acc 0.690800\n",
      "Epoch 15, CIFAR-10 Batch 1:  Train Loss 0.7098, Train Acc 0.753713, Val Loss 0.8649, Validation Acc 0.697000\n",
      "Epoch 15, CIFAR-10 Batch 2:  Train Loss 0.7047, Train Acc 0.768564, Val Loss 0.8794, Validation Acc 0.684200\n",
      "Epoch 15, CIFAR-10 Batch 3:  Train Loss 0.6988, Train Acc 0.740099, Val Loss 0.8926, Validation Acc 0.686000\n",
      "Epoch 15, CIFAR-10 Batch 4:  Train Loss 0.6630, Train Acc 0.763614, Val Loss 0.8552, Validation Acc 0.694800\n",
      "Epoch 15, CIFAR-10 Batch 5:  Train Loss 0.6469, Train Acc 0.790842, Val Loss 0.8582, Validation Acc 0.694600\n",
      "Epoch 16, CIFAR-10 Batch 1:  Train Loss 0.7096, Train Acc 0.756188, Val Loss 0.8663, Validation Acc 0.698600\n",
      "Epoch 16, CIFAR-10 Batch 2:  Train Loss 0.6868, Train Acc 0.780941, Val Loss 0.8829, Validation Acc 0.685400\n",
      "Epoch 16, CIFAR-10 Batch 3:  Train Loss 0.6595, Train Acc 0.763614, Val Loss 0.8592, Validation Acc 0.699400\n",
      "Epoch 16, CIFAR-10 Batch 4:  Train Loss 0.6474, Train Acc 0.777228, Val Loss 0.8520, Validation Acc 0.699200\n",
      "Epoch 16, CIFAR-10 Batch 5:  Train Loss 0.6200, Train Acc 0.801980, Val Loss 0.8472, Validation Acc 0.701800\n",
      "Epoch 17, CIFAR-10 Batch 1:  Train Loss 0.6465, Train Acc 0.767327, Val Loss 0.8389, Validation Acc 0.710600\n",
      "Epoch 17, CIFAR-10 Batch 2:  Train Loss 0.6275, Train Acc 0.798267, Val Loss 0.8331, Validation Acc 0.702200\n",
      "Epoch 17, CIFAR-10 Batch 3:  Train Loss 0.6286, Train Acc 0.769802, Val Loss 0.8576, Validation Acc 0.704800\n",
      "Epoch 17, CIFAR-10 Batch 4:  Train Loss 0.6394, Train Acc 0.788366, Val Loss 0.8503, Validation Acc 0.696000\n",
      "Epoch 17, CIFAR-10 Batch 5:  Train Loss 0.6080, Train Acc 0.803218, Val Loss 0.8497, Validation Acc 0.702600\n",
      "Epoch 18, CIFAR-10 Batch 1:  Train Loss 0.6426, Train Acc 0.766089, Val Loss 0.8363, Validation Acc 0.706600\n",
      "Epoch 18, CIFAR-10 Batch 2:  Train Loss 0.6115, Train Acc 0.799505, Val Loss 0.8311, Validation Acc 0.711400\n",
      "Epoch 18, CIFAR-10 Batch 3:  Train Loss 0.6145, Train Acc 0.783416, Val Loss 0.8445, Validation Acc 0.710200\n",
      "Epoch 18, CIFAR-10 Batch 4:  Train Loss 0.5894, Train Acc 0.792079, Val Loss 0.8213, Validation Acc 0.708800\n",
      "Epoch 18, CIFAR-10 Batch 5:  Train Loss 0.5904, Train Acc 0.806931, Val Loss 0.8474, Validation Acc 0.704000\n",
      "Epoch 19, CIFAR-10 Batch 1:  Train Loss 0.5904, Train Acc 0.800743, Val Loss 0.8076, Validation Acc 0.720000\n",
      "Epoch 19, CIFAR-10 Batch 2:  Train Loss 0.5841, Train Acc 0.809406, Val Loss 0.7957, Validation Acc 0.718800\n",
      "Epoch 19, CIFAR-10 Batch 3:  Train Loss 0.5752, Train Acc 0.794554, Val Loss 0.8185, Validation Acc 0.716400\n",
      "Epoch 19, CIFAR-10 Batch 4:  Train Loss 0.5768, Train Acc 0.804455, Val Loss 0.8211, Validation Acc 0.706800\n",
      "Epoch 19, CIFAR-10 Batch 5:  Train Loss 0.5261, Train Acc 0.821782, Val Loss 0.7889, Validation Acc 0.725800\n",
      "Epoch 20, CIFAR-10 Batch 1:  Train Loss 0.5617, Train Acc 0.800743, Val Loss 0.7959, Validation Acc 0.721600\n",
      "Epoch 20, CIFAR-10 Batch 2:  Train Loss 0.5517, Train Acc 0.805693, Val Loss 0.7900, Validation Acc 0.724200\n",
      "Epoch 20, CIFAR-10 Batch 3:  Train Loss 0.5511, Train Acc 0.803218, Val Loss 0.8084, Validation Acc 0.719400\n",
      "Epoch 20, CIFAR-10 Batch 4:  Train Loss 0.5328, Train Acc 0.808168, Val Loss 0.7907, Validation Acc 0.723000\n",
      "Epoch 20, CIFAR-10 Batch 5:  Train Loss 0.4992, Train Acc 0.827970, Val Loss 0.7867, Validation Acc 0.726400\n",
      "Epoch 21, CIFAR-10 Batch 1:  Train Loss 0.5540, Train Acc 0.810644, Val Loss 0.8004, Validation Acc 0.717000\n",
      "Epoch 21, CIFAR-10 Batch 2:  Train Loss 0.5272, Train Acc 0.815594, Val Loss 0.7918, Validation Acc 0.725600\n",
      "Epoch 21, CIFAR-10 Batch 3:  Train Loss 0.5370, Train Acc 0.813119, Val Loss 0.8079, Validation Acc 0.725000\n",
      "Epoch 21, CIFAR-10 Batch 4:  Train Loss 0.5283, Train Acc 0.819307, Val Loss 0.7962, Validation Acc 0.720800\n",
      "Epoch 21, CIFAR-10 Batch 5:  Train Loss 0.4785, Train Acc 0.831683, Val Loss 0.7660, Validation Acc 0.734400\n",
      "Epoch 22, CIFAR-10 Batch 1:  Train Loss 0.5035, Train Acc 0.825495, Val Loss 0.7743, Validation Acc 0.730200\n",
      "Epoch 22, CIFAR-10 Batch 2:  Train Loss 0.5077, Train Acc 0.835396, Val Loss 0.7663, Validation Acc 0.733400\n",
      "Epoch 22, CIFAR-10 Batch 3:  Train Loss 0.4970, Train Acc 0.825495, Val Loss 0.7796, Validation Acc 0.733400\n",
      "Epoch 22, CIFAR-10 Batch 4:  Train Loss 0.5005, Train Acc 0.834158, Val Loss 0.7728, Validation Acc 0.729600\n",
      "Epoch 22, CIFAR-10 Batch 5:  Train Loss 0.4644, Train Acc 0.847772, Val Loss 0.7603, Validation Acc 0.730600\n",
      "Epoch 23, CIFAR-10 Batch 1:  Train Loss 0.4856, Train Acc 0.829208, Val Loss 0.7658, Validation Acc 0.733600\n",
      "Epoch 23, CIFAR-10 Batch 2:  Train Loss 0.4789, Train Acc 0.834158, Val Loss 0.7655, Validation Acc 0.737600\n",
      "Epoch 23, CIFAR-10 Batch 3:  Train Loss 0.4694, Train Acc 0.826733, Val Loss 0.7766, Validation Acc 0.734400\n",
      "Epoch 23, CIFAR-10 Batch 4:  Train Loss 0.4737, Train Acc 0.840346, Val Loss 0.7610, Validation Acc 0.737000\n",
      "Epoch 23, CIFAR-10 Batch 5:  Train Loss 0.4219, Train Acc 0.856436, Val Loss 0.7630, Validation Acc 0.735800\n",
      "Epoch 24, CIFAR-10 Batch 1:  Train Loss 0.4762, Train Acc 0.842822, Val Loss 0.7572, Validation Acc 0.739600\n",
      "Epoch 24, CIFAR-10 Batch 2:  Train Loss 0.4547, Train Acc 0.849010, Val Loss 0.7469, Validation Acc 0.744200\n",
      "Epoch 24, CIFAR-10 Batch 3:  Train Loss 0.4508, Train Acc 0.845297, Val Loss 0.7610, Validation Acc 0.740400\n",
      "Epoch 24, CIFAR-10 Batch 4:  Train Loss 0.4678, Train Acc 0.841584, Val Loss 0.7615, Validation Acc 0.731400\n",
      "Epoch 24, CIFAR-10 Batch 5:  Train Loss 0.4380, Train Acc 0.856436, Val Loss 0.7582, Validation Acc 0.741600\n",
      "Epoch 25, CIFAR-10 Batch 1:  Train Loss 0.4517, Train Acc 0.845297, Val Loss 0.7435, Validation Acc 0.739800\n",
      "Epoch 25, CIFAR-10 Batch 2:  Train Loss 0.4466, Train Acc 0.856436, Val Loss 0.7627, Validation Acc 0.735000\n",
      "Epoch 25, CIFAR-10 Batch 3:  Train Loss 0.4322, Train Acc 0.855198, Val Loss 0.7537, Validation Acc 0.744400\n",
      "Epoch 25, CIFAR-10 Batch 4:  Train Loss 0.4094, Train Acc 0.858911, Val Loss 0.7441, Validation Acc 0.744000\n",
      "Epoch 25, CIFAR-10 Batch 5:  Train Loss 0.3850, Train Acc 0.870049, Val Loss 0.7234, Validation Acc 0.747200\n",
      "Epoch 26, CIFAR-10 Batch 1:  Train Loss 0.4182, Train Acc 0.855198, Val Loss 0.7299, Validation Acc 0.746400\n",
      "Epoch 26, CIFAR-10 Batch 2:  Train Loss 0.4083, Train Acc 0.872525, Val Loss 0.7307, Validation Acc 0.747000\n",
      "Epoch 26, CIFAR-10 Batch 3:  Train Loss 0.3932, Train Acc 0.868812, Val Loss 0.7378, Validation Acc 0.747800\n",
      "Epoch 26, CIFAR-10 Batch 4:  Train Loss 0.4074, Train Acc 0.868812, Val Loss 0.7350, Validation Acc 0.738000\n",
      "Epoch 26, CIFAR-10 Batch 5:  Train Loss 0.3864, Train Acc 0.870049, Val Loss 0.7490, Validation Acc 0.741600\n",
      "Epoch 27, CIFAR-10 Batch 1:  Train Loss 0.4047, Train Acc 0.853960, Val Loss 0.7446, Validation Acc 0.744800\n",
      "Epoch 27, CIFAR-10 Batch 2:  Train Loss 0.3971, Train Acc 0.870050, Val Loss 0.7257, Validation Acc 0.751600\n",
      "Epoch 27, CIFAR-10 Batch 3:  Train Loss 0.3843, Train Acc 0.868812, Val Loss 0.7376, Validation Acc 0.751600\n",
      "Epoch 27, CIFAR-10 Batch 4:  Train Loss 0.3853, Train Acc 0.870049, Val Loss 0.7433, Validation Acc 0.746400\n",
      "Epoch 27, CIFAR-10 Batch 5:  Train Loss 0.3459, Train Acc 0.886139, Val Loss 0.7147, Validation Acc 0.751600\n",
      "Epoch 28, CIFAR-10 Batch 1:  Train Loss 0.3831, Train Acc 0.865099, Val Loss 0.7309, Validation Acc 0.747400\n",
      "Epoch 28, CIFAR-10 Batch 2:  Train Loss 0.3905, Train Acc 0.877475, Val Loss 0.7537, Validation Acc 0.737000\n",
      "Epoch 28, CIFAR-10 Batch 3:  Train Loss 0.3677, Train Acc 0.876238, Val Loss 0.7295, Validation Acc 0.751400\n",
      "Epoch 28, CIFAR-10 Batch 4:  Train Loss 0.3622, Train Acc 0.886139, Val Loss 0.7319, Validation Acc 0.749600\n",
      "Epoch 28, CIFAR-10 Batch 5:  Train Loss 0.3386, Train Acc 0.891089, Val Loss 0.7493, Validation Acc 0.742000\n",
      "Epoch 29, CIFAR-10 Batch 1:  Train Loss 0.3661, Train Acc 0.877475, Val Loss 0.7272, Validation Acc 0.748600\n",
      "Epoch 29, CIFAR-10 Batch 2:  Train Loss 0.3715, Train Acc 0.875000, Val Loss 0.7296, Validation Acc 0.750400\n",
      "Epoch 29, CIFAR-10 Batch 3:  Train Loss 0.3473, Train Acc 0.888614, Val Loss 0.7073, Validation Acc 0.758200\n",
      "Epoch 29, CIFAR-10 Batch 4:  Train Loss 0.3551, Train Acc 0.884901, Val Loss 0.7217, Validation Acc 0.753200\n",
      "Epoch 29, CIFAR-10 Batch 5:  Train Loss 0.3107, Train Acc 0.897277, Val Loss 0.7396, Validation Acc 0.749400\n",
      "Epoch 30, CIFAR-10 Batch 1:  Train Loss 0.3683, Train Acc 0.862624, Val Loss 0.7441, Validation Acc 0.750800\n",
      "Epoch 30, CIFAR-10 Batch 2:  Train Loss 0.3496, Train Acc 0.881188, Val Loss 0.7270, Validation Acc 0.749200\n",
      "Epoch 30, CIFAR-10 Batch 3:  Train Loss 0.3592, Train Acc 0.887376, Val Loss 0.7322, Validation Acc 0.753600\n",
      "Epoch 30, CIFAR-10 Batch 4:  Train Loss 0.3418, Train Acc 0.889851, Val Loss 0.7167, Validation Acc 0.755200\n",
      "Epoch 30, CIFAR-10 Batch 5:  Train Loss 0.2866, Train Acc 0.907178, Val Loss 0.7204, Validation Acc 0.750600\n",
      "Epoch 31, CIFAR-10 Batch 1:  Train Loss 0.3419, Train Acc 0.886139, Val Loss 0.7342, Validation Acc 0.748800\n",
      "Epoch 31, CIFAR-10 Batch 2:  Train Loss 0.3535, Train Acc 0.883663, Val Loss 0.7400, Validation Acc 0.743800\n",
      "Epoch 31, CIFAR-10 Batch 3:  Train Loss 0.3423, Train Acc 0.886139, Val Loss 0.7281, Validation Acc 0.753200\n",
      "Epoch 31, CIFAR-10 Batch 4:  Train Loss 0.3286, Train Acc 0.892327, Val Loss 0.7428, Validation Acc 0.742000\n",
      "Epoch 31, CIFAR-10 Batch 5:  Train Loss 0.2721, Train Acc 0.919554, Val Loss 0.7115, Validation Acc 0.758000\n",
      "Epoch 32, CIFAR-10 Batch 1:  Train Loss 0.3307, Train Acc 0.876238, Val Loss 0.7454, Validation Acc 0.755600\n",
      "Epoch 32, CIFAR-10 Batch 2:  Train Loss 0.3213, Train Acc 0.894802, Val Loss 0.7266, Validation Acc 0.753200\n",
      "Epoch 32, CIFAR-10 Batch 3:  Train Loss 0.3185, Train Acc 0.888614, Val Loss 0.7303, Validation Acc 0.756000\n",
      "Epoch 32, CIFAR-10 Batch 4:  Train Loss 0.2923, Train Acc 0.912129, Val Loss 0.7079, Validation Acc 0.765800\n",
      "Epoch 32, CIFAR-10 Batch 5:  Train Loss 0.2821, Train Acc 0.914604, Val Loss 0.7392, Validation Acc 0.755800\n",
      "Epoch 33, CIFAR-10 Batch 1:  Train Loss 0.3103, Train Acc 0.894802, Val Loss 0.7288, Validation Acc 0.755600\n",
      "Epoch 33, CIFAR-10 Batch 2:  Train Loss 0.3196, Train Acc 0.909653, Val Loss 0.7049, Validation Acc 0.756600\n",
      "Epoch 33, CIFAR-10 Batch 3:  Train Loss 0.2831, Train Acc 0.900990, Val Loss 0.7293, Validation Acc 0.754800\n",
      "Epoch 33, CIFAR-10 Batch 4:  Train Loss 0.3087, Train Acc 0.902228, Val Loss 0.7460, Validation Acc 0.746800\n",
      "Epoch 33, CIFAR-10 Batch 5:  Train Loss 0.2558, Train Acc 0.926980, Val Loss 0.7149, Validation Acc 0.764200\n",
      "Epoch 34, CIFAR-10 Batch 1:  Train Loss 0.2974, Train Acc 0.909653, Val Loss 0.7216, Validation Acc 0.758400\n",
      "Epoch 34, CIFAR-10 Batch 2:  Train Loss 0.2822, Train Acc 0.912129, Val Loss 0.7129, Validation Acc 0.758000\n",
      "Epoch 34, CIFAR-10 Batch 3:  Train Loss 0.2671, Train Acc 0.910891, Val Loss 0.7245, Validation Acc 0.762800\n",
      "Epoch 34, CIFAR-10 Batch 4:  Train Loss 0.2621, Train Acc 0.922030, Val Loss 0.6973, Validation Acc 0.763200\n",
      "Epoch 34, CIFAR-10 Batch 5:  Train Loss 0.2758, Train Acc 0.917079, Val Loss 0.7479, Validation Acc 0.752000\n",
      "Epoch 35, CIFAR-10 Batch 1:  Train Loss 0.2767, Train Acc 0.912129, Val Loss 0.7259, Validation Acc 0.762600\n",
      "Epoch 35, CIFAR-10 Batch 2:  Train Loss 0.2759, Train Acc 0.914604, Val Loss 0.7241, Validation Acc 0.756600\n",
      "Epoch 35, CIFAR-10 Batch 3:  Train Loss 0.2366, Train Acc 0.924505, Val Loss 0.6884, Validation Acc 0.770200\n",
      "Epoch 35, CIFAR-10 Batch 4:  Train Loss 0.2462, Train Acc 0.926980, Val Loss 0.6815, Validation Acc 0.769400\n",
      "Epoch 35, CIFAR-10 Batch 5:  Train Loss 0.2224, Train Acc 0.931931, Val Loss 0.7179, Validation Acc 0.762400\n",
      "Epoch 36, CIFAR-10 Batch 1:  Train Loss 0.2654, Train Acc 0.913366, Val Loss 0.7082, Validation Acc 0.769000\n",
      "Epoch 36, CIFAR-10 Batch 2:  Train Loss 0.2424, Train Acc 0.925743, Val Loss 0.7097, Validation Acc 0.768000\n",
      "Epoch 36, CIFAR-10 Batch 3:  Train Loss 0.2402, Train Acc 0.922030, Val Loss 0.6881, Validation Acc 0.765400\n",
      "Epoch 36, CIFAR-10 Batch 4:  Train Loss 0.2325, Train Acc 0.938119, Val Loss 0.6820, Validation Acc 0.764400\n",
      "Epoch 36, CIFAR-10 Batch 5:  Train Loss 0.2291, Train Acc 0.929455, Val Loss 0.7323, Validation Acc 0.757200\n",
      "Epoch 37, CIFAR-10 Batch 1:  Train Loss 0.2840, Train Acc 0.912129, Val Loss 0.7502, Validation Acc 0.754000\n",
      "Epoch 37, CIFAR-10 Batch 2:  Train Loss 0.2314, Train Acc 0.939356, Val Loss 0.6949, Validation Acc 0.763400\n",
      "Epoch 37, CIFAR-10 Batch 3:  Train Loss 0.2423, Train Acc 0.920792, Val Loss 0.7146, Validation Acc 0.762200\n",
      "Epoch 37, CIFAR-10 Batch 4:  Train Loss 0.2336, Train Acc 0.935643, Val Loss 0.6969, Validation Acc 0.764000\n",
      "Epoch 37, CIFAR-10 Batch 5:  Train Loss 0.2163, Train Acc 0.935644, Val Loss 0.7210, Validation Acc 0.763400\n",
      "Epoch 38, CIFAR-10 Batch 1:  Train Loss 0.2263, Train Acc 0.925742, Val Loss 0.7031, Validation Acc 0.762800\n",
      "Epoch 38, CIFAR-10 Batch 2:  Train Loss 0.2253, Train Acc 0.945545, Val Loss 0.7263, Validation Acc 0.758600\n",
      "Epoch 38, CIFAR-10 Batch 3:  Train Loss 0.2172, Train Acc 0.924505, Val Loss 0.7054, Validation Acc 0.765400\n",
      "Epoch 38, CIFAR-10 Batch 4:  Train Loss 0.2213, Train Acc 0.936881, Val Loss 0.7121, Validation Acc 0.759800\n",
      "Epoch 38, CIFAR-10 Batch 5:  Train Loss 0.1675, Train Acc 0.952970, Val Loss 0.7110, Validation Acc 0.770600\n",
      "Epoch 39, CIFAR-10 Batch 1:  Train Loss 0.2214, Train Acc 0.926980, Val Loss 0.7187, Validation Acc 0.766400\n",
      "Epoch 39, CIFAR-10 Batch 2:  Train Loss 0.1994, Train Acc 0.949257, Val Loss 0.7096, Validation Acc 0.766200\n",
      "Epoch 39, CIFAR-10 Batch 3:  Train Loss 0.2064, Train Acc 0.930693, Val Loss 0.7136, Validation Acc 0.765200\n",
      "Epoch 39, CIFAR-10 Batch 4:  Train Loss 0.2076, Train Acc 0.943069, Val Loss 0.6763, Validation Acc 0.766800\n",
      "Epoch 39, CIFAR-10 Batch 5:  Train Loss 0.1685, Train Acc 0.957921, Val Loss 0.7082, Validation Acc 0.767200\n",
      "Epoch 40, CIFAR-10 Batch 1:  Train Loss 0.2135, Train Acc 0.933168, Val Loss 0.7196, Validation Acc 0.771000\n",
      "Epoch 40, CIFAR-10 Batch 2:  Train Loss 0.1906, Train Acc 0.943069, Val Loss 0.7037, Validation Acc 0.768400\n",
      "Epoch 40, CIFAR-10 Batch 3:  Train Loss 0.1971, Train Acc 0.940594, Val Loss 0.7056, Validation Acc 0.764200\n",
      "Epoch 40, CIFAR-10 Batch 4:  Train Loss 0.1764, Train Acc 0.955446, Val Loss 0.6846, Validation Acc 0.770600\n",
      "Epoch 40, CIFAR-10 Batch 5:  Train Loss 0.1545, Train Acc 0.962871, Val Loss 0.7136, Validation Acc 0.770400\n",
      "Epoch 41, CIFAR-10 Batch 1:  Train Loss 0.2000, Train Acc 0.938119, Val Loss 0.7169, Validation Acc 0.760800\n",
      "Epoch 41, CIFAR-10 Batch 2:  Train Loss 0.1810, Train Acc 0.950495, Val Loss 0.7022, Validation Acc 0.770600\n",
      "Epoch 41, CIFAR-10 Batch 3:  Train Loss 0.1881, Train Acc 0.940594, Val Loss 0.7034, Validation Acc 0.769600\n",
      "Epoch 41, CIFAR-10 Batch 4:  Train Loss 0.1789, Train Acc 0.950495, Val Loss 0.6959, Validation Acc 0.767400\n",
      "Epoch 41, CIFAR-10 Batch 5:  Train Loss 0.1687, Train Acc 0.960396, Val Loss 0.7552, Validation Acc 0.754800\n",
      "Epoch 42, CIFAR-10 Batch 1:  Train Loss 0.1952, Train Acc 0.945545, Val Loss 0.7230, Validation Acc 0.764600\n",
      "Epoch 42, CIFAR-10 Batch 2:  Train Loss 0.1646, Train Acc 0.965347, Val Loss 0.6914, Validation Acc 0.770800\n",
      "Epoch 42, CIFAR-10 Batch 3:  Train Loss 0.1813, Train Acc 0.943069, Val Loss 0.7314, Validation Acc 0.769400\n",
      "Epoch 42, CIFAR-10 Batch 4:  Train Loss 0.1827, Train Acc 0.951733, Val Loss 0.7279, Validation Acc 0.764200\n",
      "Epoch 42, CIFAR-10 Batch 5:  Train Loss 0.1386, Train Acc 0.969059, Val Loss 0.6950, Validation Acc 0.775600\n",
      "Epoch 43, CIFAR-10 Batch 1:  Train Loss 0.1837, Train Acc 0.944307, Val Loss 0.7377, Validation Acc 0.764400\n",
      "Epoch 43, CIFAR-10 Batch 2:  Train Loss 0.1553, Train Acc 0.951733, Val Loss 0.7032, Validation Acc 0.775000\n",
      "Epoch 43, CIFAR-10 Batch 3:  Train Loss 0.1669, Train Acc 0.951733, Val Loss 0.7321, Validation Acc 0.770400\n",
      "Epoch 43, CIFAR-10 Batch 4:  Train Loss 0.1750, Train Acc 0.950495, Val Loss 0.7162, Validation Acc 0.770200\n",
      "Epoch 43, CIFAR-10 Batch 5:  Train Loss 0.1355, Train Acc 0.966584, Val Loss 0.7438, Validation Acc 0.770800\n",
      "Epoch 44, CIFAR-10 Batch 1:  Train Loss 0.1986, Train Acc 0.943069, Val Loss 0.7258, Validation Acc 0.765800\n",
      "Epoch 44, CIFAR-10 Batch 2:  Train Loss 0.1523, Train Acc 0.961634, Val Loss 0.7169, Validation Acc 0.773800\n",
      "Epoch 44, CIFAR-10 Batch 3:  Train Loss 0.1478, Train Acc 0.957921, Val Loss 0.7252, Validation Acc 0.771800\n",
      "Epoch 44, CIFAR-10 Batch 4:  Train Loss 0.1537, Train Acc 0.961634, Val Loss 0.7350, Validation Acc 0.765400\n",
      "Epoch 44, CIFAR-10 Batch 5:  Train Loss 0.1343, Train Acc 0.965347, Val Loss 0.7065, Validation Acc 0.769000\n",
      "Epoch 45, CIFAR-10 Batch 1:  Train Loss 0.1776, Train Acc 0.945544, Val Loss 0.7359, Validation Acc 0.766000\n",
      "Epoch 45, CIFAR-10 Batch 2:  Train Loss 0.1459, Train Acc 0.962871, Val Loss 0.7296, Validation Acc 0.772400\n",
      "Epoch 45, CIFAR-10 Batch 3:  Train Loss 0.1567, Train Acc 0.946782, Val Loss 0.7671, Validation Acc 0.764400\n",
      "Epoch 45, CIFAR-10 Batch 4:  Train Loss 0.1618, Train Acc 0.959158, Val Loss 0.7588, Validation Acc 0.752400\n",
      "Epoch 45, CIFAR-10 Batch 5:  Train Loss 0.1339, Train Acc 0.967822, Val Loss 0.7035, Validation Acc 0.773600\n",
      "Epoch 46, CIFAR-10 Batch 1:  Train Loss 0.1471, Train Acc 0.957921, Val Loss 0.7134, Validation Acc 0.769400\n",
      "Epoch 46, CIFAR-10 Batch 2:  Train Loss 0.1250, Train Acc 0.977723, Val Loss 0.7155, Validation Acc 0.771600\n",
      "Epoch 46, CIFAR-10 Batch 3:  Train Loss 0.1398, Train Acc 0.949257, Val Loss 0.7236, Validation Acc 0.770000\n",
      "Epoch 46, CIFAR-10 Batch 4:  Train Loss 0.1224, Train Acc 0.966584, Val Loss 0.6911, Validation Acc 0.771400\n",
      "Epoch 46, CIFAR-10 Batch 5:  Train Loss 0.1061, Train Acc 0.978960, Val Loss 0.7135, Validation Acc 0.779800\n",
      "Epoch 47, CIFAR-10 Batch 1:  Train Loss 0.1390, Train Acc 0.957921, Val Loss 0.7157, Validation Acc 0.767600\n",
      "Epoch 47, CIFAR-10 Batch 2:  Train Loss 0.1169, Train Acc 0.970297, Val Loss 0.7218, Validation Acc 0.774800\n",
      "Epoch 47, CIFAR-10 Batch 3:  Train Loss 0.1323, Train Acc 0.957921, Val Loss 0.7834, Validation Acc 0.769800\n",
      "Epoch 47, CIFAR-10 Batch 4:  Train Loss 0.1262, Train Acc 0.969059, Val Loss 0.7158, Validation Acc 0.769000\n",
      "Epoch 47, CIFAR-10 Batch 5:  Train Loss 0.0983, Train Acc 0.982673, Val Loss 0.7172, Validation Acc 0.775400\n",
      "Epoch 48, CIFAR-10 Batch 1:  Train Loss 0.1250, Train Acc 0.965346, Val Loss 0.7028, Validation Acc 0.775600\n",
      "Epoch 48, CIFAR-10 Batch 2:  Train Loss 0.1173, Train Acc 0.971535, Val Loss 0.7273, Validation Acc 0.781000\n",
      "Epoch 48, CIFAR-10 Batch 3:  Train Loss 0.1263, Train Acc 0.959158, Val Loss 0.7272, Validation Acc 0.771200\n",
      "Epoch 48, CIFAR-10 Batch 4:  Train Loss 0.1162, Train Acc 0.972772, Val Loss 0.7221, Validation Acc 0.770600\n",
      "Epoch 48, CIFAR-10 Batch 5:  Train Loss 0.0992, Train Acc 0.976485, Val Loss 0.7184, Validation Acc 0.777200\n",
      "Epoch 49, CIFAR-10 Batch 1:  Train Loss 0.1258, Train Acc 0.966584, Val Loss 0.7401, Validation Acc 0.778200\n",
      "Epoch 49, CIFAR-10 Batch 2:  Train Loss 0.1176, Train Acc 0.974010, Val Loss 0.7286, Validation Acc 0.775800\n",
      "Epoch 49, CIFAR-10 Batch 3:  Train Loss 0.1262, Train Acc 0.964109, Val Loss 0.7555, Validation Acc 0.769000\n",
      "Epoch 49, CIFAR-10 Batch 4:  Train Loss 0.1168, Train Acc 0.967822, Val Loss 0.7226, Validation Acc 0.769200\n",
      "Epoch 49, CIFAR-10 Batch 5:  Train Loss 0.1089, Train Acc 0.976485, Val Loss 0.7351, Validation Acc 0.770800\n",
      "Epoch 50, CIFAR-10 Batch 1:  Train Loss 0.1315, Train Acc 0.969059, Val Loss 0.7423, Validation Acc 0.771600\n",
      "Epoch 50, CIFAR-10 Batch 2:  Train Loss 0.1202, Train Acc 0.974010, Val Loss 0.7172, Validation Acc 0.779600\n",
      "Epoch 50, CIFAR-10 Batch 3:  Train Loss 0.1213, Train Acc 0.964109, Val Loss 0.7509, Validation Acc 0.773000\n",
      "Epoch 50, CIFAR-10 Batch 4:  Train Loss 0.1058, Train Acc 0.966584, Val Loss 0.7111, Validation Acc 0.776200\n",
      "Epoch 50, CIFAR-10 Batch 5:  Train Loss 0.0895, Train Acc 0.986386, Val Loss 0.7344, Validation Acc 0.776200\n",
      "Epoch 51, CIFAR-10 Batch 1:  Train Loss 0.1172, Train Acc 0.965347, Val Loss 0.7732, Validation Acc 0.762000\n",
      "Epoch 51, CIFAR-10 Batch 2:  Train Loss 0.1108, Train Acc 0.982673, Val Loss 0.7256, Validation Acc 0.765400\n",
      "Epoch 51, CIFAR-10 Batch 3:  Train Loss 0.0966, Train Acc 0.976485, Val Loss 0.7343, Validation Acc 0.779600\n",
      "Epoch 51, CIFAR-10 Batch 4:  Train Loss 0.0938, Train Acc 0.969059, Val Loss 0.7324, Validation Acc 0.774000\n",
      "Epoch 51, CIFAR-10 Batch 5:  Train Loss 0.0802, Train Acc 0.990099, Val Loss 0.7212, Validation Acc 0.778800\n",
      "Epoch 52, CIFAR-10 Batch 1:  Train Loss 0.0979, Train Acc 0.976485, Val Loss 0.7279, Validation Acc 0.774000\n",
      "Epoch 52, CIFAR-10 Batch 2:  Train Loss 0.0893, Train Acc 0.982673, Val Loss 0.7160, Validation Acc 0.783200\n",
      "Epoch 52, CIFAR-10 Batch 3:  Train Loss 0.0855, Train Acc 0.978960, Val Loss 0.7301, Validation Acc 0.780600\n",
      "Epoch 52, CIFAR-10 Batch 4:  Train Loss 0.0864, Train Acc 0.978960, Val Loss 0.7257, Validation Acc 0.776200\n",
      "Epoch 52, CIFAR-10 Batch 5:  Train Loss 0.0809, Train Acc 0.982673, Val Loss 0.7676, Validation Acc 0.774600\n",
      "Epoch 53, CIFAR-10 Batch 1:  Train Loss 0.0935, Train Acc 0.977723, Val Loss 0.7469, Validation Acc 0.773800\n",
      "Epoch 53, CIFAR-10 Batch 2:  Train Loss 0.0847, Train Acc 0.986386, Val Loss 0.7227, Validation Acc 0.778200\n",
      "Epoch 53, CIFAR-10 Batch 3:  Train Loss 0.0876, Train Acc 0.982673, Val Loss 0.7136, Validation Acc 0.781400\n",
      "Epoch 53, CIFAR-10 Batch 4:  Train Loss 0.0729, Train Acc 0.985148, Val Loss 0.7227, Validation Acc 0.780800\n",
      "Epoch 53, CIFAR-10 Batch 5:  Train Loss 0.0720, Train Acc 0.987624, Val Loss 0.7560, Validation Acc 0.770200\n",
      "Epoch 54, CIFAR-10 Batch 1:  Train Loss 0.0762, Train Acc 0.985148, Val Loss 0.7443, Validation Acc 0.777200\n",
      "Epoch 54, CIFAR-10 Batch 2:  Train Loss 0.0788, Train Acc 0.987624, Val Loss 0.7267, Validation Acc 0.778000\n",
      "Epoch 54, CIFAR-10 Batch 3:  Train Loss 0.0732, Train Acc 0.990099, Val Loss 0.7182, Validation Acc 0.782400\n",
      "Epoch 54, CIFAR-10 Batch 4:  Train Loss 0.0717, Train Acc 0.980198, Val Loss 0.7280, Validation Acc 0.781400\n",
      "Epoch 54, CIFAR-10 Batch 5:  Train Loss 0.0630, Train Acc 0.990099, Val Loss 0.7523, Validation Acc 0.774000\n",
      "Epoch 55, CIFAR-10 Batch 1:  Train Loss 0.0741, Train Acc 0.982673, Val Loss 0.7444, Validation Acc 0.776400\n",
      "Epoch 55, CIFAR-10 Batch 2:  Train Loss 0.0700, Train Acc 0.987624, Val Loss 0.7172, Validation Acc 0.782200\n",
      "Epoch 55, CIFAR-10 Batch 3:  Train Loss 0.0720, Train Acc 0.986386, Val Loss 0.7340, Validation Acc 0.782600\n",
      "Epoch 55, CIFAR-10 Batch 4:  Train Loss 0.0715, Train Acc 0.983911, Val Loss 0.7473, Validation Acc 0.778200\n",
      "Epoch 55, CIFAR-10 Batch 5:  Train Loss 0.0663, Train Acc 0.992574, Val Loss 0.7444, Validation Acc 0.774000\n",
      "Epoch 56, CIFAR-10 Batch 1:  Train Loss 0.0684, Train Acc 0.986386, Val Loss 0.7330, Validation Acc 0.781600\n",
      "Epoch 56, CIFAR-10 Batch 2:  Train Loss 0.0636, Train Acc 0.987624, Val Loss 0.7266, Validation Acc 0.781400\n",
      "Epoch 56, CIFAR-10 Batch 3:  Train Loss 0.0664, Train Acc 0.990099, Val Loss 0.7183, Validation Acc 0.787800\n",
      "Epoch 56, CIFAR-10 Batch 4:  Train Loss 0.0575, Train Acc 0.982673, Val Loss 0.7422, Validation Acc 0.779000\n",
      "Epoch 56, CIFAR-10 Batch 5:  Train Loss 0.0574, Train Acc 0.992574, Val Loss 0.7731, Validation Acc 0.777400\n",
      "Epoch 57, CIFAR-10 Batch 1:  Train Loss 0.0764, Train Acc 0.983911, Val Loss 0.7381, Validation Acc 0.780600\n",
      "Epoch 57, CIFAR-10 Batch 2:  Train Loss 0.0696, Train Acc 0.990099, Val Loss 0.7044, Validation Acc 0.781600\n",
      "Epoch 57, CIFAR-10 Batch 3:  Train Loss 0.0627, Train Acc 0.990099, Val Loss 0.7463, Validation Acc 0.783200\n",
      "Epoch 57, CIFAR-10 Batch 4:  Train Loss 0.0583, Train Acc 0.991336, Val Loss 0.7518, Validation Acc 0.778000\n",
      "Epoch 57, CIFAR-10 Batch 5:  Train Loss 0.0480, Train Acc 0.992574, Val Loss 0.7652, Validation Acc 0.774800\n",
      "Epoch 58, CIFAR-10 Batch 1:  Train Loss 0.0804, Train Acc 0.985148, Val Loss 0.7558, Validation Acc 0.771000\n",
      "Epoch 58, CIFAR-10 Batch 2:  Train Loss 0.0608, Train Acc 0.993812, Val Loss 0.7336, Validation Acc 0.778200\n",
      "Epoch 58, CIFAR-10 Batch 3:  Train Loss 0.0552, Train Acc 0.991337, Val Loss 0.7228, Validation Acc 0.785200\n",
      "Epoch 58, CIFAR-10 Batch 4:  Train Loss 0.0506, Train Acc 0.988861, Val Loss 0.7536, Validation Acc 0.775000\n",
      "Epoch 58, CIFAR-10 Batch 5:  Train Loss 0.0450, Train Acc 0.997525, Val Loss 0.7290, Validation Acc 0.784000\n",
      "Epoch 59, CIFAR-10 Batch 1:  Train Loss 0.0613, Train Acc 0.988861, Val Loss 0.7857, Validation Acc 0.779200\n",
      "Epoch 59, CIFAR-10 Batch 2:  Train Loss 0.0717, Train Acc 0.992574, Val Loss 0.7520, Validation Acc 0.774000\n",
      "Epoch 59, CIFAR-10 Batch 3:  Train Loss 0.0502, Train Acc 0.988861, Val Loss 0.7556, Validation Acc 0.779600\n",
      "Epoch 59, CIFAR-10 Batch 4:  Train Loss 0.0512, Train Acc 0.990099, Val Loss 0.7612, Validation Acc 0.774800\n",
      "Epoch 59, CIFAR-10 Batch 5:  Train Loss 0.0496, Train Acc 0.992574, Val Loss 0.7390, Validation Acc 0.781200\n",
      "Epoch 60, CIFAR-10 Batch 1:  Train Loss 0.0572, Train Acc 0.991337, Val Loss 0.7479, Validation Acc 0.780200\n",
      "Epoch 60, CIFAR-10 Batch 2:  Train Loss 0.0540, Train Acc 0.992574, Val Loss 0.7565, Validation Acc 0.773200\n",
      "Epoch 60, CIFAR-10 Batch 3:  Train Loss 0.0460, Train Acc 0.992574, Val Loss 0.7442, Validation Acc 0.783000\n",
      "Epoch 60, CIFAR-10 Batch 4:  Train Loss 0.0429, Train Acc 0.992574, Val Loss 0.7767, Validation Acc 0.774600\n",
      "Epoch 60, CIFAR-10 Batch 5:  Train Loss 0.0373, Train Acc 0.997525, Val Loss 0.7499, Validation Acc 0.785000\n"
     ]
    }
   ],
   "source": [
    "\"\"\"\n",
    "DON'T MODIFY ANYTHING IN THIS CELL\n",
    "\"\"\"\n",
    "save_model_path = './image_classification'\n",
    "\n",
    "print('Training...')\n",
    "with tf.Session() as sess:\n",
    "    # Initializing the variables\n",
    "    sess.run(tf.global_variables_initializer())\n",
    "    \n",
    "    # Training cycle\n",
    "    for epoch in range(epochs):\n",
    "        # Loop over all batches\n",
    "        n_batches = 5\n",
    "        for batch_i in range(1, n_batches + 1):\n",
    "            for batch_features, batch_labels in helper.load_preprocess_training_batch(batch_i, batch_size):\n",
    "                train_neural_network(sess, optimizer, keep_probability, batch_features, batch_labels)\n",
    "            print('Epoch {:>2}, CIFAR-10 Batch {}:  '.format(epoch + 1, batch_i), end='')\n",
    "            print_stats(sess, batch_features, batch_labels, cost, accuracy)\n",
    "            \n",
    "    # Save Model\n",
    "    saver = tf.train.Saver()\n",
    "    save_path = saver.save(sess, save_model_path)"
   ]
  },
  {
   "cell_type": "markdown",
   "metadata": {
    "deletable": true,
    "editable": true
   },
   "source": [
    "# Checkpoint\n",
    "The model has been saved to disk.\n",
    "## Test Model\n",
    "Test your model against the test dataset.  This will be your final accuracy. You should have an accuracy greater than 50%. If you don't, keep tweaking the model architecture and parameters."
   ]
  },
  {
   "cell_type": "code",
   "execution_count": 495,
   "metadata": {
    "collapsed": false,
    "deletable": true,
    "editable": true
   },
   "outputs": [
    {
     "name": "stdout",
     "output_type": "stream",
     "text": [
      "INFO:tensorflow:Restoring parameters from ./image_classification\n",
      "Testing Accuracy: 0.7778798639774323\n",
      "\n"
     ]
    },
    {
     "data": {
      "image/png": "[encoded data removed]",
      "text/plain": [
       "<matplotlib.figure.Figure at 0x1177f6518>"
      ]
     },
     "metadata": {
      "image/png": {
       "height": 319,
       "width": 355
      }
     },
     "output_type": "display_data"
    }
   ],
   "source": [
    "\"\"\"\n",
    "DON'T MODIFY ANYTHING IN THIS CELL\n",
    "\"\"\"\n",
    "%matplotlib inline\n",
    "%config InlineBackend.figure_format = 'retina'\n",
    "\n",
    "import tensorflow as tf\n",
    "import pickle\n",
    "import helper\n",
    "import random\n",
    "\n",
    "# Set batch size if not already set\n",
    "try:\n",
    "    if batch_size:\n",
    "        pass\n",
    "except NameError:\n",
    "    batch_size = 64\n",
    "\n",
    "save_model_path = './image_classification'\n",
    "n_samples = 4\n",
    "top_n_predictions = 3\n",
    "\n",
    "def test_model():\n",
    "    \"\"\"\n",
    "    Test the saved model against the test dataset\n",
    "    \"\"\"\n",
    "\n",
    "    test_features, test_labels = pickle.load(open('preprocess_test.p', mode='rb'))\n",
    "    loaded_graph = tf.Graph()\n",
    "\n",
    "    with tf.Session(graph=loaded_graph) as sess:\n",
    "        # Load model\n",
    "        loader = tf.train.import_meta_graph(save_model_path + '.meta')\n",
    "        loader.restore(sess, save_model_path)\n",
    "\n",
    "        # Get Tensors from loaded model\n",
    "        loaded_x = loaded_graph.get_tensor_by_name('x:0')\n",
    "        loaded_y = loaded_graph.get_tensor_by_name('y:0')\n",
    "        loaded_keep_prob = loaded_graph.get_tensor_by_name('keep_prob:0')\n",
    "        loaded_logits = loaded_graph.get_tensor_by_name('logits:0')\n",
    "        loaded_acc = loaded_graph.get_tensor_by_name('accuracy:0')\n",
    "        \n",
    "        # Get accuracy in batches for memory limitations\n",
    "        test_batch_acc_total = 0\n",
    "        test_batch_count = 0\n",
    "        \n",
    "        for test_feature_batch, test_label_batch in helper.batch_features_labels(test_features, test_labels, batch_size):\n",
    "            test_batch_acc_total += sess.run(\n",
    "                loaded_acc,\n",
    "                feed_dict={loaded_x: test_feature_batch, loaded_y: test_label_batch, loaded_keep_prob: 1.0})\n",
    "            test_batch_count += 1\n",
    "\n",
    "        print('Testing Accuracy: {}\\n'.format(test_batch_acc_total/test_batch_count))\n",
    "\n",
    "        # Print Random Samples\n",
    "        random_test_features, random_test_labels = tuple(zip(*random.sample(list(zip(test_features, test_labels)), n_samples)))\n",
    "        random_test_predictions = sess.run(\n",
    "            tf.nn.top_k(tf.nn.softmax(loaded_logits), top_n_predictions),\n",
    "            feed_dict={loaded_x: random_test_features, loaded_y: random_test_labels, loaded_keep_prob: 1.0})\n",
    "        helper.display_image_predictions(random_test_features, random_test_labels, random_test_predictions)\n",
    "\n",
    "\n",
    "test_model()"
   ]
  },
  {
   "cell_type": "markdown",
   "metadata": {
    "deletable": true,
    "editable": true
   },
   "source": [
    "## Why 50-80% Accuracy?\n",
    "You might be wondering why you can't get an accuracy any higher. First things first, 50% isn't bad for a simple CNN.  Pure guessing would get you 10% accuracy. However, you might notice people are getting scores [well above 80%](http://rodrigob.github.io/are_we_there_yet/build/classification_datasets_results.html#43494641522d3130).  That's because we haven't taught you all there is to know about neural networks. We still need to cover a few more techniques.\n",
    "## Submitting This Project\n",
    "When submitting this project, make sure to run all the cells before saving the notebook.  Save the notebook file as \"dlnd_image_classification.ipynb\" and save it as a HTML file under \"File\" -> \"Download as\".  Include the \"helper.py\" and \"problem_unittests.py\" files in your submission."
   ]
  }
 ],
 "metadata": {
  "kernelspec": {
   "display_name": "Python 3",
   "language": "python",
   "name": "python3"
  },
  "language_info": {
   "codemirror_mode": {
    "name": "ipython",
    "version": 3
   },
   "file_extension": ".py",
   "mimetype": "text/x-python",
   "name": "python",
   "nbconvert_exporter": "python",
   "pygments_lexer": "ipython3",
   "version": "3.5.3"
  }
 },
 "nbformat": 4,
 "nbformat_minor": 0
}
